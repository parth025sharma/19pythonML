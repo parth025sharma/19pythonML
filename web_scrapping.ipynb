{
  "nbformat": 4,
  "nbformat_minor": 0,
  "metadata": {
    "colab": {
      "name": "web_scrapping.ipynb",
      "version": "0.3.2",
      "provenance": [],
      "collapsed_sections": [],
      "include_colab_link": true
    },
    "kernelspec": {
      "name": "python3",
      "display_name": "Python 3"
    }
  },
  "cells": [
    {
      "cell_type": "markdown",
      "metadata": {
        "id": "view-in-github",
        "colab_type": "text"
      },
      "source": [
        "<a href=\"https://colab.research.google.com/github/parth025sharma/19pythonML/blob/master/web_scrapping.ipynb\" target=\"_parent\"><img src=\"https://colab.research.google.com/assets/colab-badge.svg\" alt=\"Open In Colab\"/></a>"
      ]
    },
    {
      "cell_type": "code",
      "metadata": {
        "id": "LYpRO5fMQ9wY",
        "colab_type": "code",
        "colab": {}
      },
      "source": [
        "from bs4 import BeautifulSoup #importing beautifulsoup for scrapping \n",
        "import requests #importng for requstiong to access link"
      ],
      "execution_count": 0,
      "outputs": []
    },
    {
      "cell_type": "code",
      "metadata": {
        "id": "tzCe7VJvRVbr",
        "colab_type": "code",
        "colab": {
          "base_uri": "https://localhost:8080/",
          "height": 34
        },
        "outputId": "06b4d7f7-cbf4-4707-93e0-daad8071457c"
      },
      "source": [
        "#saving the url\n",
        "url='https://en.wikipedia.org/wiki/Something_Fishy'\n",
        "#we are sending the request to url and saving the response\n",
        "response=requests.get(url)\n",
        "response"
      ],
      "execution_count": 28,
      "outputs": [
        {
          "output_type": "execute_result",
          "data": {
            "text/plain": [
              "<Response [200]>"
            ]
          },
          "metadata": {
            "tags": []
          },
          "execution_count": 28
        }
      ]
    },
    {
      "cell_type": "code",
      "metadata": {
        "id": "XIHeJMZaR0kV",
        "colab_type": "code",
        "colab": {
          "base_uri": "https://localhost:8080/",
          "height": 54
        },
        "outputId": "4afba213-a8ea-48b9-f746-707cc5d8de5f"
      },
      "source": [
        "response.text "
      ],
      "execution_count": 29,
      "outputs": [
        {
          "output_type": "execute_result",
          "data": {
            "text/plain": [
              "'<!DOCTYPE html>\\n<html class=\"client-nojs\" lang=\"en\" dir=\"ltr\">\\n<head>\\n<meta charset=\"UTF-8\"/>\\n<title>Something Fishy - Wikipedia</title>\\n<script>document.documentElement.className=document.documentElement.className.replace(/(^|\\\\s)client-nojs(\\\\s|$)/,\"$1client-js$2\");RLCONF={\"wgCanonicalNamespace\":\"\",\"wgCanonicalSpecialPageName\":!1,\"wgNamespaceNumber\":0,\"wgPageName\":\"Something_Fishy\",\"wgTitle\":\"Something Fishy\",\"wgCurRevisionId\":901304222,\"wgRevisionId\":901304222,\"wgArticleId\":4091926,\"wgIsArticle\":!0,\"wgIsRedirect\":!1,\"wgAction\":\"view\",\"wgUserName\":null,\"wgUserGroups\":[\"*\"],\"wgCategories\":[\"Articles with short description\",\"All stub articles\",\"Novels by P. G. Wodehouse\",\"English novels\",\"1957 British novels\",\"Herbert Jenkins books\",\"Fiction set in 1929\",\"Fiction set in 1955\",\"1950s novel stubs\"],\"wgBreakFrames\":!1,\"wgPageContentLanguage\":\"en\",\"wgPageContentModel\":\"wikitext\",\"wgSeparatorTransformTable\":[\"\",\"\"],\"wgDigitTransformTable\":[\"\",\"\"],\"wgDefaultDateFormat\":\"dmy\",\"wgMonthNames\":[\"\",\"January\",\"February\",\"March\",\"April\",\"May\",\"June\",\"July\",\"August\",\"September\",\"October\",\"November\",\"December\"],\"wgMonthNamesShort\":[\\n\"\",\"Jan\",\"Feb\",\"Mar\",\"Apr\",\"May\",\"Jun\",\"Jul\",\"Aug\",\"Sep\",\"Oct\",\"Nov\",\"Dec\"],\"wgRelevantPageName\":\"Something_Fishy\",\"wgRelevantArticleId\":4091926,\"wgRequestId\":\"XRSS7gpAICkAAHyCA3sAAABD\",\"wgCSPNonce\":!1,\"wgIsProbablyEditable\":!0,\"wgRelevantPageIsProbablyEditable\":!0,\"wgRestrictionEdit\":[],\"wgRestrictionMove\":[],\"wgMediaViewerOnClick\":!0,\"wgMediaViewerEnabledByDefault\":!0,\"wgPopupsReferencePreviews\":!1,\"wgPopupsConflictsWithNavPopupGadget\":!1,\"wgVisualEditor\":{\"pageLanguageCode\":\"en\",\"pageLanguageDir\":\"ltr\",\"pageVariantFallbacks\":\"en\"},\"wgMFDisplayWikibaseDescriptions\":{\"search\":!0,\"nearby\":!0,\"watchlist\":!0,\"tagline\":!1},\"wgWMESchemaEditAttemptStepOversample\":!1,\"wgPoweredByHHVM\":!0,\"wgULSCurrentAutonym\":\"English\",\"wgNoticeProject\":\"wikipedia\",\"wgCentralNoticeCategoriesUsingLegacy\":[\"Fundraising\",\"fundraising\"],\"wgWikibaseItemId\":\"Q7560098\",\"wgCentralAuthMobileDomain\":!1,\"wgEditSubmitButtonLabelPublish\":!0};RLSTATE={\"ext.gadget.charinsert-styles\":\\n\"ready\",\"ext.globalCssJs.user.styles\":\"ready\",\"ext.globalCssJs.site.styles\":\"ready\",\"site.styles\":\"ready\",\"noscript\":\"ready\",\"user.styles\":\"ready\",\"ext.globalCssJs.user\":\"ready\",\"ext.globalCssJs.site\":\"ready\",\"user\":\"ready\",\"user.options\":\"ready\",\"user.tokens\":\"loading\",\"ext.cite.styles\":\"ready\",\"mediawiki.legacy.shared\":\"ready\",\"mediawiki.legacy.commonPrint\":\"ready\",\"wikibase.client.init\":\"ready\",\"ext.visualEditor.desktopArticleTarget.noscript\":\"ready\",\"ext.uls.interlanguage\":\"ready\",\"ext.wikimediaBadges\":\"ready\",\"ext.3d.styles\":\"ready\",\"mediawiki.skinning.interface\":\"ready\",\"skins.vector.styles\":\"ready\"};RLPAGEMODULES=[\"ext.cite.ux-enhancements\",\"site\",\"mediawiki.page.startup\",\"mediawiki.page.ready\",\"mediawiki.searchSuggest\",\"ext.gadget.teahouse\",\"ext.gadget.ReferenceTooltips\",\"ext.gadget.watchlist-notice\",\"ext.gadget.DRN-wizard\",\"ext.gadget.charinsert\",\"ext.gadget.refToolbar\",\"ext.gadget.extra-toolbar-buttons\",\"ext.gadget.switcher\",\"ext.centralauth.centralautologin\",\"mmv.head\",\\n\"mmv.bootstrap.autostart\",\"ext.popups\",\"ext.visualEditor.desktopArticleTarget.init\",\"ext.visualEditor.targetLoader\",\"ext.eventLogging\",\"ext.wikimediaEvents\",\"ext.navigationTiming\",\"ext.uls.compactlinks\",\"ext.uls.interface\",\"ext.quicksurveys.init\",\"ext.centralNotice.geoIP\",\"ext.centralNotice.startUp\",\"skins.vector.js\"];</script>\\n<script>(RLQ=window.RLQ||[]).push(function(){mw.loader.implement(\"user.tokens@0tffind\",function($,jQuery,require,module){/*@nomin*/mw.user.tokens.set({\"editToken\":\"+\\\\\\\\\",\"patrolToken\":\"+\\\\\\\\\",\"watchToken\":\"+\\\\\\\\\",\"csrfToken\":\"+\\\\\\\\\"});\\n});});</script>\\n<link rel=\"stylesheet\" href=\"/w/load.php?lang=en&amp;modules=ext.3d.styles%7Cext.cite.styles%7Cext.uls.interlanguage%7Cext.visualEditor.desktopArticleTarget.noscript%7Cext.wikimediaBadges%7Cmediawiki.legacy.commonPrint%2Cshared%7Cmediawiki.skinning.interface%7Cskins.vector.styles%7Cwikibase.client.init&amp;only=styles&amp;skin=vector\"/>\\n<script async=\"\" src=\"/w/load.php?lang=en&amp;modules=startup&amp;only=scripts&amp;skin=vector\"></script>\\n<meta name=\"ResourceLoaderDynamicStyles\" content=\"\"/>\\n<link rel=\"stylesheet\" href=\"/w/load.php?lang=en&amp;modules=ext.gadget.charinsert-styles&amp;only=styles&amp;skin=vector\"/>\\n<link rel=\"stylesheet\" href=\"/w/load.php?lang=en&amp;modules=site.styles&amp;only=styles&amp;skin=vector\"/>\\n<meta name=\"generator\" content=\"MediaWiki 1.34.0-wmf.10\"/>\\n<meta name=\"referrer\" content=\"origin\"/>\\n<meta name=\"referrer\" content=\"origin-when-crossorigin\"/>\\n<meta name=\"referrer\" content=\"origin-when-cross-origin\"/>\\n<meta property=\"og:image\" content=\"https://upload.wikimedia.org/wikipedia/en/1/14/SomethingFishy.jpg\"/>\\n<link rel=\"alternate\" href=\"android-app://org.wikipedia/http/en.m.wikipedia.org/wiki/Something_Fishy\"/>\\n<link rel=\"alternate\" type=\"application/x-wiki\" title=\"Edit this page\" href=\"/w/index.php?title=Something_Fishy&amp;action=edit\"/>\\n<link rel=\"edit\" title=\"Edit this page\" href=\"/w/index.php?title=Something_Fishy&amp;action=edit\"/>\\n<link rel=\"apple-touch-icon\" href=\"/static/apple-touch/wikipedia.png\"/>\\n<link rel=\"shortcut icon\" href=\"/static/favicon/wikipedia.ico\"/>\\n<link rel=\"search\" type=\"application/opensearchdescription+xml\" href=\"/w/opensearch_desc.php\" title=\"Wikipedia (en)\"/>\\n<link rel=\"EditURI\" type=\"application/rsd+xml\" href=\"//en.wikipedia.org/w/api.php?action=rsd\"/>\\n<link rel=\"license\" href=\"//creativecommons.org/licenses/by-sa/3.0/\"/>\\n<link rel=\"canonical\" href=\"https://en.wikipedia.org/wiki/Something_Fishy\"/>\\n<link rel=\"dns-prefetch\" href=\"//login.wikimedia.org\"/>\\n<link rel=\"dns-prefetch\" href=\"//meta.wikimedia.org\" />\\n<!--[if lt IE 9]><script src=\"/w/load.php?modules=html5shiv&amp;only=scripts&amp;sync=1\"></script><![endif]-->\\n</head>\\n<body class=\"mediawiki ltr sitedir-ltr mw-hide-empty-elt ns-0 ns-subject mw-editable page-Something_Fishy rootpage-Something_Fishy skin-vector action-view\">\\n<div id=\"mw-page-base\" class=\"noprint\"></div>\\n<div id=\"mw-head-base\" class=\"noprint\"></div>\\n<div id=\"content\" class=\"mw-body\" role=\"main\">\\n\\t<a id=\"top\"></a>\\n\\t<div id=\"siteNotice\" class=\"mw-body-content\"><!-- CentralNotice --></div>\\n\\t<div class=\"mw-indicators mw-body-content\">\\n</div>\\n\\n\\t<h1 id=\"firstHeading\" class=\"firstHeading\" lang=\"en\"><i>Something Fishy</i></h1>\\n\\t\\n\\t<div id=\"bodyContent\" class=\"mw-body-content\">\\n\\t\\t<div id=\"siteSub\" class=\"noprint\">From Wikipedia, the free encyclopedia</div>\\n\\t\\t<div id=\"contentSub\"></div>\\n\\t\\t\\n\\t\\t\\n\\t\\t\\n\\t\\t<div id=\"jump-to-nav\"></div>\\n\\t\\t<a class=\"mw-jump-link\" href=\"#mw-head\">Jump to navigation</a>\\n\\t\\t<a class=\"mw-jump-link\" href=\"#p-search\">Jump to search</a>\\n\\t\\t<div id=\"mw-content-text\" lang=\"en\" dir=\"ltr\" class=\"mw-content-ltr\"><div class=\"mw-parser-output\"><div class=\"shortdescription nomobile noexcerpt noprint searchaux\" style=\"display:none\">1957 novel by P.G. Wodehouse</div>\\n<div role=\"note\" class=\"hatnote navigation-not-searchable\">This article is about the 1957 novel by P. G. Wodehouse. For the 1994 French film, see <a href=\"/wiki/Something_Fishy_(film)\" title=\"Something Fishy (film)\">Something Fishy (film)</a>.</div>\\n<div class=\"thumb tright\"><div class=\"thumbinner\" style=\"width:222px;\"><a href=\"/wiki/File:SomethingFishy.jpg\" class=\"image\"><img alt=\"\" src=\"//upload.wikimedia.org/wikipedia/en/thumb/1/14/SomethingFishy.jpg/220px-SomethingFishy.jpg\" decoding=\"async\" width=\"220\" height=\"336\" class=\"thumbimage\" srcset=\"//upload.wikimedia.org/wikipedia/en/1/14/SomethingFishy.jpg 1.5x\" data-file-width=\"255\" data-file-height=\"389\" /></a>  <div class=\"thumbcaption\"><div class=\"magnify\"><a href=\"/wiki/File:SomethingFishy.jpg\" class=\"internal\" title=\"Enlarge\"></a></div>First edition</div></div></div>\\n<p><i><b>Something Fishy</b></i> is a novel by <a href=\"/wiki/P._G._Wodehouse\" title=\"P. G. Wodehouse\">P. G. Wodehouse</a>, first published in the United Kingdom on 18 January 1957 by <a href=\"/wiki/Herbert_Jenkins_Ltd\" class=\"mw-redirect\" title=\"Herbert Jenkins Ltd\">Herbert Jenkins</a>, London and in the United States on January 28, 1957 by <a href=\"/wiki/Simon_%26_Schuster,_Inc.\" class=\"mw-redirect\" title=\"Simon &amp; Schuster, Inc.\">Simon &amp; Schuster, Inc.</a>, New York, under the title <i>The Butler Did It</i>.<sup id=\"cite_ref-McIl_1-0\" class=\"reference\"><a href=\"#cite_note-McIl-1\">&#91;1&#93;</a></sup>\\n</p><p>The plot concerns a <a href=\"/wiki/Tontine\" title=\"Tontine\">tontine</a> formed by a group of wealthy men weeks before the 1929 stock market crash, and a butler named Keggs who, having overheard the planning of the scheme, years later decides to try to make money out of his knowledge.\\n</p><p>The novel features hero Bill Hollister and anti-hero Roscoe Bunyun, who are the sons of the men who set up the tontine. The last one to become married will receive one million dollars from the tontine. Keggs, the former butler to Bunyun\\'s father, informs Roscoe of the secret tontine. Keggs is now retired and wealthy. He supports his impoverished former employer, the genial and often confused Lord Uffenham, and Uffenham\\'s daughter Jane. A chance meeting between Bill and Jane turns to romance, Keggs\\' plan is undone by Roscoe, and Lord Uffenham and Keggs plot to save the day for Bill and Jane.\\n</p><p><i>Something Fishy</i> also features <a href=\"/wiki/Percy_Pilbeam\" class=\"mw-redirect\" title=\"Percy Pilbeam\">Percy Pilbeam</a>, the unscrupulous head of the Argus Detective Agency, who first appeared in <i><a href=\"/wiki/Bill_the_Conqueror\" title=\"Bill the Conqueror\">Bill the Conqueror</a></i> (1924) and was in several other Wodehouse books, including a visit to <a href=\"/wiki/Blandings_Castle\" title=\"Blandings Castle\">Blandings Castle</a> in <i><a href=\"/wiki/Summer_Lightning\" title=\"Summer Lightning\">Summer Lightning</a></i> (1929).\\n</p>\\n<h2><span class=\"mw-headline\" id=\"References\">References</span><span class=\"mw-editsection\"><span class=\"mw-editsection-bracket\">[</span><a href=\"/w/index.php?title=Something_Fishy&amp;action=edit&amp;section=1\" title=\"Edit section: References\">edit</a><span class=\"mw-editsection-bracket\">]</span></span></h2>\\n<div class=\"reflist\" style=\"list-style-type: decimal;\">\\n<div class=\"mw-references-wrap\"><ol class=\"references\">\\n<li id=\"cite_note-McIl-1\"><span class=\"mw-cite-backlink\"><b><a href=\"#cite_ref-McIl_1-0\">^</a></b></span> <span class=\"reference-text\">McIlvaine, E., Sherby, L.S. and Heineman, J.H. (1990) <i>P.G. Wodehouse: A comprehensive bibliography and checklist</i>. New York: James H. Heineman, pp. 92-93. <style data-mw-deduplicate=\"TemplateStyles:r886058088\">.mw-parser-output cite.citation{font-style:inherit}.mw-parser-output .citation q{quotes:\"\\\\\"\"\"\\\\\"\"\"\\'\"\"\\'\"}.mw-parser-output .citation .cs1-lock-free a{background:url(\"//upload.wikimedia.org/wikipedia/commons/thumb/6/65/Lock-green.svg/9px-Lock-green.svg.png\")no-repeat;background-position:right .1em center}.mw-parser-output .citation .cs1-lock-limited a,.mw-parser-output .citation .cs1-lock-registration a{background:url(\"//upload.wikimedia.org/wikipedia/commons/thumb/d/d6/Lock-gray-alt-2.svg/9px-Lock-gray-alt-2.svg.png\")no-repeat;background-position:right .1em center}.mw-parser-output .citation .cs1-lock-subscription a{background:url(\"//upload.wikimedia.org/wikipedia/commons/thumb/a/aa/Lock-red-alt-2.svg/9px-Lock-red-alt-2.svg.png\")no-repeat;background-position:right .1em center}.mw-parser-output .cs1-subscription,.mw-parser-output .cs1-registration{color:#555}.mw-parser-output .cs1-subscription span,.mw-parser-output .cs1-registration span{border-bottom:1px dotted;cursor:help}.mw-parser-output .cs1-ws-icon a{background:url(\"//upload.wikimedia.org/wikipedia/commons/thumb/4/4c/Wikisource-logo.svg/12px-Wikisource-logo.svg.png\")no-repeat;background-position:right .1em center}.mw-parser-output code.cs1-code{color:inherit;background:inherit;border:inherit;padding:inherit}.mw-parser-output .cs1-hidden-error{display:none;font-size:100%}.mw-parser-output .cs1-visible-error{font-size:100%}.mw-parser-output .cs1-maint{display:none;color:#33aa33;margin-left:0.3em}.mw-parser-output .cs1-subscription,.mw-parser-output .cs1-registration,.mw-parser-output .cs1-format{font-size:95%}.mw-parser-output .cs1-kern-left,.mw-parser-output .cs1-kern-wl-left{padding-left:0.2em}.mw-parser-output .cs1-kern-right,.mw-parser-output .cs1-kern-wl-right{padding-right:0.2em}</style><a href=\"/wiki/International_Standard_Book_Number\" title=\"International Standard Book Number\">ISBN</a>&#160;<a href=\"/wiki/Special:BookSources/087008125X\" title=\"Special:BookSources/087008125X\">087008125X</a></span>\\n</li>\\n</ol></div></div>\\n<h2><span class=\"mw-headline\" id=\"External_links\">External links</span><span class=\"mw-editsection\"><span class=\"mw-editsection-bracket\">[</span><a href=\"/w/index.php?title=Something_Fishy&amp;action=edit&amp;section=2\" title=\"Edit section: External links\">edit</a><span class=\"mw-editsection-bracket\">]</span></span></h2>\\n<ul><li><a rel=\"nofollow\" class=\"external text\" href=\"http://wodehouse.ru/79.htm\">The Russian Wodehouse Society\\'s page</a>, with a list of characters</li></ul>\\n<div role=\"navigation\" class=\"navbox\" aria-labelledby=\"P._G._Wodehouse\" style=\"padding:3px\"><table class=\"nowraplinks hlist collapsible autocollapse navbox-inner\" style=\"border-spacing:0;background:transparent;color:inherit\"><tbody><tr><th scope=\"col\" class=\"navbox-title\" colspan=\"2\"><div class=\"plainlinks hlist navbar mini\"><ul><li class=\"nv-view\"><a href=\"/wiki/Template:P._G._Wodehouse\" title=\"Template:P. G. Wodehouse\"><abbr title=\"View this template\" style=\";;background:none transparent;border:none;-moz-box-shadow:none;-webkit-box-shadow:none;box-shadow:none; padding:0;\">v</abbr></a></li><li class=\"nv-talk\"><a href=\"/wiki/Template_talk:P._G._Wodehouse\" title=\"Template talk:P. G. Wodehouse\"><abbr title=\"Discuss this template\" style=\";;background:none transparent;border:none;-moz-box-shadow:none;-webkit-box-shadow:none;box-shadow:none; padding:0;\">t</abbr></a></li><li class=\"nv-edit\"><a class=\"external text\" href=\"//en.wikipedia.org/w/index.php?title=Template:P._G._Wodehouse&amp;action=edit\"><abbr title=\"Edit this template\" style=\";;background:none transparent;border:none;-moz-box-shadow:none;-webkit-box-shadow:none;box-shadow:none; padding:0;\">e</abbr></a></li></ul></div><div id=\"P._G._Wodehouse\" style=\"font-size:114%;margin:0 4em\"><a href=\"/wiki/P._G._Wodehouse\" title=\"P. G. Wodehouse\">P. G. Wodehouse</a></div></th></tr><tr><td class=\"navbox-abovebelow\" colspan=\"2\"><div id=\"*_Bibliography&amp;#10;*_Short_stories&amp;#10;*_Characters&amp;#10;*_Locations&amp;#10;*_Songs\">\\n<ul><li><a href=\"/wiki/P._G._Wodehouse_bibliography\" title=\"P. G. Wodehouse bibliography\">Bibliography</a></li>\\n<li><a href=\"/wiki/P._G._Wodehouse_short_stories_bibliography\" title=\"P. G. Wodehouse short stories bibliography\">Short stories</a></li>\\n<li><a href=\"/wiki/List_of_P._G._Wodehouse_characters\" title=\"List of P. G. Wodehouse characters\">Characters</a></li>\\n<li><a href=\"/wiki/P._G._Wodehouse_locations\" title=\"P. G. Wodehouse locations\">Locations</a></li>\\n<li><a href=\"/wiki/List_of_songs_with_lyrics_by_P._G._Wodehouse\" title=\"List of songs with lyrics by P. G. Wodehouse\">Songs</a></li></ul>\\n</div></td></tr><tr><th scope=\"row\" class=\"navbox-group\" style=\"width:1%\"><a href=\"/wiki/Jeeves\" title=\"Jeeves\">Jeeves</a> and <a href=\"/wiki/Bertie_Wooster\" title=\"Bertie Wooster\">Wooster</a></th><td class=\"navbox-list navbox-odd\" style=\"text-align:left;border-left-width:2px;border-left-style:solid;width:100%;padding:0px\"><div style=\"padding:0em 0.25em\">\\n<ul><li>\"<a href=\"/wiki/Extricating_Young_Gussie\" title=\"Extricating Young Gussie\">Extricating Young Gussie</a>\"</li>\\n<li><i><a href=\"/wiki/My_Man_Jeeves\" title=\"My Man Jeeves\">My Man Jeeves</a></i></li>\\n<li><i><a href=\"/wiki/The_Inimitable_Jeeves\" title=\"The Inimitable Jeeves\">The Inimitable Jeeves</a></i></li>\\n<li><i><a href=\"/wiki/Carry_On,_Jeeves\" title=\"Carry On, Jeeves\">Carry On, Jeeves</a></i></li>\\n<li><i><a href=\"/wiki/Very_Good,_Jeeves\" title=\"Very Good, Jeeves\">Very Good, Jeeves</a></i></li>\\n<li><i><a href=\"/wiki/Thank_You,_Jeeves\" title=\"Thank You, Jeeves\">Thank You, Jeeves</a></i></li>\\n<li><i><a href=\"/wiki/Right_Ho,_Jeeves\" title=\"Right Ho, Jeeves\">Right Ho, Jeeves</a></i></li>\\n<li><i><a href=\"/wiki/The_Code_of_the_Woosters\" title=\"The Code of the Woosters\">The Code of the Woosters</a></i></li>\\n<li><i><a href=\"/wiki/Joy_in_the_Morning_(Wodehouse_novel)\" title=\"Joy in the Morning (Wodehouse novel)\">Joy in the Morning</a></i></li>\\n<li><i><a href=\"/wiki/The_Mating_Season_(novel)\" title=\"The Mating Season (novel)\">The Mating Season</a></i></li>\\n<li><i><a href=\"/wiki/Ring_for_Jeeves\" title=\"Ring for Jeeves\">Ring for Jeeves</a></i></li>\\n<li><i><a href=\"/wiki/Jeeves_and_the_Feudal_Spirit\" title=\"Jeeves and the Feudal Spirit\">Jeeves and the Feudal Spirit</a></i></li>\\n<li>\"<a href=\"/wiki/Jeeves_Makes_an_Omelette\" title=\"Jeeves Makes an Omelette\">Jeeves Makes an Omelette</a>\"</li>\\n<li><i><a href=\"/wiki/Jeeves_in_the_Offing\" title=\"Jeeves in the Offing\">Jeeves in the Offing</a></i></li>\\n<li><i><a href=\"/wiki/Stiff_Upper_Lip,_Jeeves\" title=\"Stiff Upper Lip, Jeeves\">Stiff Upper Lip, Jeeves</a></i></li>\\n<li>\"<a href=\"/wiki/Jeeves_and_the_Greasy_Bird\" title=\"Jeeves and the Greasy Bird\">Jeeves and the Greasy Bird</a>\"</li>\\n<li><i><a href=\"/wiki/Much_Obliged,_Jeeves\" title=\"Much Obliged, Jeeves\">Much Obliged, Jeeves</a></i></li>\\n<li><i><a href=\"/wiki/Aunts_Aren%27t_Gentlemen\" title=\"Aunts Aren&#39;t Gentlemen\">Aunts Aren\\'t Gentlemen</a></i></li></ul>\\n</div></td></tr><tr><th scope=\"row\" class=\"navbox-group\" style=\"width:1%\"><a href=\"/wiki/Blandings_Castle\" title=\"Blandings Castle\">Blandings Castle</a></th><td class=\"navbox-list navbox-even\" style=\"text-align:left;border-left-width:2px;border-left-style:solid;width:100%;padding:0px\"><div style=\"padding:0em 0.25em\">\\n<ul><li><i><a href=\"/wiki/Something_Fresh\" title=\"Something Fresh\">Something Fresh</a></i></li>\\n<li><i><a href=\"/wiki/Leave_It_to_Psmith\" title=\"Leave It to Psmith\">Leave It to Psmith</a></i></li>\\n<li><i><a href=\"/wiki/Blandings_Castle_and_Elsewhere\" title=\"Blandings Castle and Elsewhere\">Blandings Castle and Elsewhere</a></i></li>\\n<li><i><a href=\"/wiki/Summer_Lightning\" title=\"Summer Lightning\">Summer Lightning</a></i></li>\\n<li><i><a href=\"/wiki/Heavy_Weather_(Wodehouse_novel)\" title=\"Heavy Weather (Wodehouse novel)\">Heavy Weather</a></i></li>\\n<li>\"<a href=\"/wiki/The_Crime_Wave_at_Blandings\" title=\"The Crime Wave at Blandings\">The Crime Wave at Blandings</a>\"</li>\\n<li><i><a href=\"/wiki/Uncle_Fred_in_the_Springtime\" title=\"Uncle Fred in the Springtime\">Uncle Fred in the Springtime</a></i></li>\\n<li><i><a href=\"/wiki/Full_Moon_(novel)\" title=\"Full Moon (novel)\">Full Moon</a></i></li>\\n<li>\"<a href=\"/wiki/Birth_of_a_Salesman\" title=\"Birth of a Salesman\">Birth of a Salesman</a>\"</li>\\n<li><i><a href=\"/wiki/Pigs_Have_Wings\" title=\"Pigs Have Wings\">Pigs Have Wings</a></i></li>\\n<li><i><a href=\"/wiki/Service_with_a_Smile\" title=\"Service with a Smile\">Service with a Smile</a></i></li>\\n<li><i><a href=\"/wiki/Galahad_at_Blandings\" title=\"Galahad at Blandings\">Galahad at Blandings</a></i></li>\\n<li>\"<a href=\"/wiki/Sticky_Wicket_at_Blandings\" title=\"Sticky Wicket at Blandings\">Sticky Wicket at Blandings</a>\"</li>\\n<li><i><a href=\"/wiki/A_Pelican_at_Blandings\" title=\"A Pelican at Blandings\">A Pelican at Blandings</a></i></li>\\n<li><i><a href=\"/wiki/Sunset_at_Blandings\" title=\"Sunset at Blandings\">Sunset at Blandings</a></i></li></ul>\\n</div></td></tr><tr><th scope=\"row\" class=\"navbox-group\" style=\"width:1%\">School stories</th><td class=\"navbox-list navbox-odd\" style=\"text-align:left;border-left-width:2px;border-left-style:solid;width:100%;padding:0px\"><div style=\"padding:0em 0.25em\">\\n<ul><li><i><a href=\"/wiki/The_Pothunters\" title=\"The Pothunters\">The Pothunters</a></i></li>\\n<li><i><a href=\"/wiki/A_Prefect%27s_Uncle\" title=\"A Prefect&#39;s Uncle\">A Prefect\\'s Uncle</a></i></li>\\n<li><i><a href=\"/wiki/Tales_of_St._Austin%27s\" title=\"Tales of St. Austin&#39;s\">Tales of St. Austin\\'s</a></i></li>\\n<li><i><a href=\"/wiki/The_Gold_Bat\" title=\"The Gold Bat\">The Gold Bat</a></i></li>\\n<li><i><a href=\"/wiki/The_Head_of_Kay%27s\" title=\"The Head of Kay&#39;s\">The Head of Kay\\'s</a></i></li>\\n<li><i><a href=\"/wiki/The_White_Feather\" title=\"The White Feather\">The White Feather</a></i></li>\\n<li><i><a href=\"/wiki/Mike_(novel)\" title=\"Mike (novel)\">Mike</a></i></li>\\n<li><i><a href=\"/wiki/Tales_of_Wrykyn_and_Elsewhere\" title=\"Tales of Wrykyn and Elsewhere\">Tales of Wrykyn and Elsewhere</a></i></li></ul>\\n</div></td></tr><tr><th scope=\"row\" class=\"navbox-group\" style=\"width:1%\">Other novels</th><td class=\"navbox-list navbox-even\" style=\"text-align:left;border-left-width:2px;border-left-style:solid;width:100%;padding:0px\"><div style=\"padding:0em 0.25em\">\\n<ul><li><i><a href=\"/wiki/William_Tell_Told_Again\" title=\"William Tell Told Again\">William Tell Told Again</a></i></li>\\n<li><i><a href=\"/wiki/Not_George_Washington\" title=\"Not George Washington\">Not George Washington</a></i></li>\\n<li><i><a href=\"/wiki/The_Luck_Stone\" title=\"The Luck Stone\">The Luck Stone</a></i></li>\\n<li><i><a href=\"/wiki/Love_Among_the_Chickens\" title=\"Love Among the Chickens\">Love Among the Chickens</a></i></li>\\n<li><i><a href=\"/wiki/The_Swoop!\" title=\"The Swoop!\">The Swoop!</a></i></li>\\n<li><i><a href=\"/wiki/A_Gentleman_of_Leisure\" title=\"A Gentleman of Leisure\">A Gentleman of Leisure</a></i></li>\\n<li><i><a href=\"/wiki/Psmith_in_the_City\" title=\"Psmith in the City\">Psmith in the City</a></i></li>\\n<li><i><a href=\"/wiki/Psmith,_Journalist\" title=\"Psmith, Journalist\">Psmith, Journalist</a></i></li>\\n<li><i><a href=\"/wiki/The_Prince_and_Betty\" title=\"The Prince and Betty\">The Prince and Betty</a></i></li>\\n<li><i><a href=\"/wiki/The_Little_Nugget\" title=\"The Little Nugget\">The Little Nugget</a></i></li>\\n<li><i><a href=\"/wiki/Piccadilly_Jim\" title=\"Piccadilly Jim\">Piccadilly Jim</a></i></li>\\n<li><i><a href=\"/wiki/Uneasy_Money\" title=\"Uneasy Money\">Uneasy Money</a></i></li>\\n<li><i><a href=\"/wiki/The_Coming_of_Bill\" title=\"The Coming of Bill\">The Coming of Bill</a></i></li>\\n<li><i><a href=\"/wiki/A_Damsel_in_Distress_(novel)\" title=\"A Damsel in Distress (novel)\">A Damsel in Distress</a></i></li>\\n<li><i><a href=\"/wiki/Jill_the_Reckless\" title=\"Jill the Reckless\">Jill the Reckless</a></i></li>\\n<li><i><a href=\"/wiki/Indiscretions_of_Archie\" title=\"Indiscretions of Archie\">Indiscretions of Archie</a></i></li>\\n<li><i><a href=\"/wiki/The_Girl_on_the_Boat\" title=\"The Girl on the Boat\">The Girl on the Boat</a></i></li>\\n<li><i><a href=\"/wiki/The_Adventures_of_Sally\" title=\"The Adventures of Sally\">The Adventures of Sally</a></i></li>\\n<li><i><a href=\"/wiki/Bill_the_Conqueror\" title=\"Bill the Conqueror\">Bill the Conqueror</a></i></li>\\n<li><i><a href=\"/wiki/Sam_the_Sudden\" title=\"Sam the Sudden\">Sam the Sudden</a></i></li>\\n<li><i><a href=\"/wiki/The_Small_Bachelor\" title=\"The Small Bachelor\">The Small Bachelor</a></i></li>\\n<li><i><a href=\"/wiki/Money_for_Nothing_(novel)\" title=\"Money for Nothing (novel)\">Money for Nothing</a></i></li>\\n<li><i><a href=\"/wiki/Big_Money_(novel)\" title=\"Big Money (novel)\">Big Money</a></i></li>\\n<li><i><a href=\"/wiki/Doctor_Sally\" title=\"Doctor Sally\">Doctor Sally</a></i></li>\\n<li><i><a href=\"/wiki/If_I_Were_You_(Wodehouse_novel)\" title=\"If I Were You (Wodehouse novel)\">If I Were You</a></i></li>\\n<li><i><a href=\"/wiki/Hot_Water_(novel)\" title=\"Hot Water (novel)\">Hot Water</a></i></li>\\n<li><i><a href=\"/wiki/The_Luck_of_the_Bodkins\" title=\"The Luck of the Bodkins\">The Luck of the Bodkins</a></i></li>\\n<li><i><a href=\"/wiki/Laughing_Gas_(novel)\" title=\"Laughing Gas (novel)\">Laughing Gas</a></i></li>\\n<li><i><a href=\"/wiki/Summer_Moonshine\" title=\"Summer Moonshine\">Summer Moonshine</a></i></li>\\n<li><i><a href=\"/wiki/Quick_Service\" title=\"Quick Service\">Quick Service</a></i></li>\\n<li><i><a href=\"/wiki/Money_in_the_Bank_(novel)\" title=\"Money in the Bank (novel)\">Money in the Bank</a></i></li>\\n<li><i><a href=\"/wiki/Spring_Fever_(novel)\" title=\"Spring Fever (novel)\">Spring Fever</a></i></li>\\n<li><i><a href=\"/wiki/Uncle_Dynamite\" title=\"Uncle Dynamite\">Uncle Dynamite</a></i></li>\\n<li><i><a href=\"/wiki/The_Old_Reliable\" title=\"The Old Reliable\">The Old Reliable</a></i></li>\\n<li><i><a href=\"/wiki/Barmy_in_Wonderland\" title=\"Barmy in Wonderland\">Barmy in Wonderland</a></i></li>\\n<li><i><a href=\"/wiki/French_Leave_(novel)\" title=\"French Leave (novel)\">French Leave</a></i></li>\\n<li><i><a class=\"mw-selflink selflink\">Something Fishy</a></i></li>\\n<li><i><a href=\"/wiki/Cocktail_Time\" title=\"Cocktail Time\">Cocktail Time</a></i></li>\\n<li><i><a href=\"/wiki/Ice_in_the_Bedroom\" title=\"Ice in the Bedroom\">Ice in the Bedroom</a></i></li>\\n<li><i><a href=\"/wiki/Frozen_Assets_(novel)\" title=\"Frozen Assets (novel)\">Frozen Assets</a></i></li>\\n<li><i><a href=\"/wiki/Company_for_Henry\" title=\"Company for Henry\">Company for Henry</a></i></li>\\n<li><i><a href=\"/wiki/Do_Butlers_Burgle_Banks%3F\" title=\"Do Butlers Burgle Banks?\">Do Butlers Burgle Banks?</a></i></li>\\n<li><i><a href=\"/wiki/The_Girl_in_Blue\" title=\"The Girl in Blue\">The Girl in Blue</a></i></li>\\n<li><i><a href=\"/wiki/Pearls,_Girls_and_Monty_Bodkin\" title=\"Pearls, Girls and Monty Bodkin\">Pearls, Girls and Monty Bodkin</a></i></li>\\n<li><i><a href=\"/wiki/Bachelors_Anonymous\" title=\"Bachelors Anonymous\">Bachelors Anonymous</a></i></li></ul>\\n</div></td></tr><tr><th scope=\"row\" class=\"navbox-group\" style=\"width:1%\">Other short story<br />collections</th><td class=\"navbox-list navbox-odd\" style=\"text-align:left;border-left-width:2px;border-left-style:solid;width:100%;padding:0px\"><div style=\"padding:0em 0.25em\">\\n<ul><li><i><a href=\"/wiki/The_Man_Upstairs_(short_story_collection)\" title=\"The Man Upstairs (short story collection)\">The Man Upstairs</a></i></li>\\n<li><i><a href=\"/wiki/A_Man_of_Means\" title=\"A Man of Means\">A Man of Means</a></i></li>\\n<li><i><a href=\"/wiki/The_Man_with_Two_Left_Feet\" title=\"The Man with Two Left Feet\">The Man with Two Left Feet</a></i></li>\\n<li><i><a href=\"/wiki/The_Clicking_of_Cuthbert\" title=\"The Clicking of Cuthbert\">The Clicking of Cuthbert</a></i></li>\\n<li><i><a href=\"/wiki/Ukridge_(short_story_collection)\" title=\"Ukridge (short story collection)\">Ukridge</a></i></li>\\n<li><i><a href=\"/wiki/The_Heart_of_a_Goof\" title=\"The Heart of a Goof\">The Heart of a Goof</a></i></li>\\n<li><i><a href=\"/wiki/Meet_Mr_Mulliner\" title=\"Meet Mr Mulliner\">Meet Mr Mulliner</a></i></li>\\n<li><i><a href=\"/wiki/Mr_Mulliner_Speaking\" title=\"Mr Mulliner Speaking\">Mr Mulliner Speaking</a></i></li>\\n<li><i><a href=\"/wiki/Mulliner_Nights\" title=\"Mulliner Nights\">Mulliner Nights</a></i></li>\\n<li><i><a href=\"/wiki/Young_Men_in_Spats\" title=\"Young Men in Spats\">Young Men in Spats</a></i></li>\\n<li><i><a href=\"/wiki/Lord_Emsworth_and_Others\" title=\"Lord Emsworth and Others\">Lord Emsworth and Others</a></i></li>\\n<li><i><a href=\"/wiki/Eggs,_Beans_and_Crumpets\" title=\"Eggs, Beans and Crumpets\">Eggs, Beans and Crumpets</a></i></li>\\n<li><i><a href=\"/wiki/Nothing_Serious_(short_story_collection)\" title=\"Nothing Serious (short story collection)\">Nothing Serious</a></i></li>\\n<li><i><a href=\"/wiki/A_Few_Quick_Ones\" title=\"A Few Quick Ones\">A Few Quick Ones</a></i></li>\\n<li><i><a href=\"/wiki/Plum_Pie\" title=\"Plum Pie\">Plum Pie</a></i></li></ul>\\n</div></td></tr><tr><th scope=\"row\" class=\"navbox-group\" style=\"width:1%\">Autobiographies</th><td class=\"navbox-list navbox-even\" style=\"text-align:left;border-left-width:2px;border-left-style:solid;width:100%;padding:0px\"><div style=\"padding:0em 0.25em\">\\n<ul><li><i><a href=\"/wiki/Bring_On_the_Girls!\" title=\"Bring On the Girls!\">Bring On the Girls!</a></i></li>\\n<li><i><a href=\"/wiki/Performing_Flea\" title=\"Performing Flea\">Performing Flea</a></i></li>\\n<li><i><a href=\"/wiki/Over_Seventy\" title=\"Over Seventy\">Over Seventy</a></i></li></ul>\\n</div></td></tr><tr><th scope=\"row\" class=\"navbox-group\" style=\"width:1%\">Stage</th><td class=\"navbox-list navbox-odd\" style=\"text-align:left;border-left-width:2px;border-left-style:solid;width:100%;padding:0px\"><div style=\"padding:0em 0.25em\">\\n<ul><li><i><a href=\"/wiki/The_Beauty_of_Bath\" title=\"The Beauty of Bath\">The Beauty of Bath</a></i> (1906)</li>\\n<li><i><a href=\"/wiki/Nuts_and_Wine\" title=\"Nuts and Wine\">Nuts and Wine</a></i> (1914)</li>\\n<li><i><a href=\"/wiki/Oh,_Boy!_(musical)\" title=\"Oh, Boy! (musical)\">Oh, Boy!</a></i> (1917)</li>\\n<li><i><a href=\"/wiki/Leave_It_to_Jane\" title=\"Leave It to Jane\">Leave It to Jane</a></i> (1917)</li>\\n<li><i><a href=\"/wiki/The_Riviera_Girl\" class=\"mw-redirect\" title=\"The Riviera Girl\">The Riviera Girl</a></i> (1917)</li>\\n<li><i><a href=\"/wiki/Miss_1917\" title=\"Miss 1917\">Miss 1917</a></i> (1917)</li>\\n<li><i><a href=\"/wiki/Oh,_Lady!_Lady!!\" title=\"Oh, Lady! Lady!!\">Oh, Lady! Lady!!</a></i> (1918)</li>\\n<li><i><a href=\"/wiki/The_Girl_Behind_the_Gun\" class=\"mw-redirect\" title=\"The Girl Behind the Gun\">The Girl Behind the Gun</a></i> (1918)</li>\\n<li><i><a href=\"/wiki/Kissing_Time\" title=\"Kissing Time\">Kissing Time</a></i> (1919)</li>\\n<li><i><a href=\"/wiki/Sally_(musical)\" title=\"Sally (musical)\">Sally</a></i> (1920)</li>\\n<li><i><a href=\"/wiki/The_Cabaret_Girl\" title=\"The Cabaret Girl\">The Cabaret Girl</a></i> (1922)</li>\\n<li><i><a href=\"/wiki/The_Beauty_Prize\" title=\"The Beauty Prize\">The Beauty Prize</a></i> (1923)</li>\\n<li><i><a href=\"/wiki/Oh,_Kay!\" title=\"Oh, Kay!\">Oh, Kay!</a></i> (1926)</li>\\n<li><i><a href=\"/wiki/Show_Boat\" title=\"Show Boat\">Show Boat</a></i> (1927)</li>\\n<li><i><a href=\"/wiki/Rosalie_(musical)\" title=\"Rosalie (musical)\">Rosalie</a></i> (1928)</li>\\n<li><i><a href=\"/wiki/The_Three_Musketeers_(musical)\" title=\"The Three Musketeers (musical)\">The Three Musketeers</a></i> (1928)</li>\\n<li><i><a href=\"/wiki/Anything_Goes\" title=\"Anything Goes\">Anything Goes</a></i> (1934)</li>\\n<li><i><a href=\"/wiki/Come_On,_Jeeves\" title=\"Come On, Jeeves\">Come On, Jeeves</a></i> (1954)</li>\\n<li><i><a href=\"/wiki/By_Jeeves\" title=\"By Jeeves\">Jeeves</a></i> <small>(later <i>By Jeeves</i>)</small> (1975/1996)</li>\\n<li><i><a href=\"/wiki/Jeeves_and_Wooster_in_Perfect_Nonsense\" title=\"Jeeves and Wooster in Perfect Nonsense\">Jeeves and Wooster in Perfect Nonsense</a></i> (2013)</li>\\n<li><i><a href=\"/wiki/A_Damsel_in_Distress_(musical)\" title=\"A Damsel in Distress (musical)\">A Damsel in Distress</a></i> (2015)</li></ul>\\n</div></td></tr><tr><th scope=\"row\" class=\"navbox-group\" style=\"width:1%\">Films</th><td class=\"navbox-list navbox-even\" style=\"text-align:left;border-left-width:2px;border-left-style:solid;width:100%;padding:0px\"><div style=\"padding:0em 0.25em\">\\n<ul><li><i><a href=\"/wiki/A_Gentleman_of_Leisure_(1915_film)\" title=\"A Gentleman of Leisure (1915 film)\">A Gentleman of Leisure</a></i> (1915)</li>\\n<li><i><a href=\"/wiki/A_Damsel_in_Distress_(1919_film)\" title=\"A Damsel in Distress (1919 film)\">A Damsel in Distress</a></i> (1919)</li>\\n<li><i><a href=\"/wiki/Piccadilly_Jim_(1919_film)\" title=\"Piccadilly Jim (1919 film)\">Piccadilly Jim</a></i> (1919)</li>\\n<li><i><a href=\"/wiki/The_Prince_and_Betty_(film)\" title=\"The Prince and Betty (film)\">The Prince and Betty</a></i> (1919)</li>\\n<li><i><a href=\"/wiki/Oh,_Lady,_Lady\" title=\"Oh, Lady, Lady\">Oh, Lady, Lady</a></i> (1920)</li>\\n<li><i><a href=\"/wiki/A_Gentleman_of_Leisure_(1923_film)\" title=\"A Gentleman of Leisure (1923 film)\">A Gentleman of Leisure</a></i> (1923)</li>\\n<li><i><a href=\"/wiki/The_Golden_Butterfly\" title=\"The Golden Butterfly\">The Golden Butterfly</a></i> (1926)</li>\\n<li><i><a href=\"/wiki/Oh,_Kay!_(film)\" title=\"Oh, Kay! (film)\">Oh, Kay!</a></i> (1928)</li>\\n<li><i><a href=\"/wiki/Brother_Alfred\" title=\"Brother Alfred\">Brother Alfred</a></i> (1932)</li>\\n<li><i><a href=\"/wiki/Leave_It_to_Me_(1933_film)\" title=\"Leave It to Me (1933 film)\">Leave It to Me</a></i> (1933)</li>\\n<li><i><a href=\"/wiki/Summer_Lightning_(film)\" title=\"Summer Lightning (film)\">Summer Lightning</a></i> (1933)</li>\\n<li><i><a href=\"/wiki/Anything_Goes_(1936_film)\" title=\"Anything Goes (1936 film)\">Anything Goes</a></i> (1936)</li>\\n<li><i><a href=\"/wiki/Piccadilly_Jim_(1936_film)\" title=\"Piccadilly Jim (1936 film)\">Piccadilly Jim</a></i> (1936)</li>\\n<li><i><a href=\"/wiki/Thank_You,_Jeeves!\" title=\"Thank You, Jeeves!\">Thank You, Jeeves!</a></i> (1936)</li>\\n<li><i><a href=\"/wiki/Step_Lively,_Jeeves!\" title=\"Step Lively, Jeeves!\">Step Lively, Jeeves</a></i> (1937)</li>\\n<li><i><a href=\"/wiki/A_Damsel_in_Distress_(1937_film)\" title=\"A Damsel in Distress (1937 film)\">A Damsel in Distress</a></i> (1937)</li>\\n<li><i><a href=\"/wiki/Thunder_and_Lightning_(1938_film)\" title=\"Thunder and Lightning (1938 film)\">Thunder and Lightning</a></i> (1938)</li>\\n<li><i><a href=\"/wiki/Anything_Goes_(1956_film)\" title=\"Anything Goes (1956 film)\">Anything Goes</a></i> (1956)</li>\\n<li><i><a href=\"/wiki/The_Girl_on_the_Boat_(film)\" title=\"The Girl on the Boat (film)\">The Girl on the Boat</a></i> (1961)</li>\\n<li><i><a href=\"/wiki/By_Jeeves_(film)\" class=\"mw-redirect\" title=\"By Jeeves (film)\">By Jeeves</a></i> (2001)</li>\\n<li><i><a href=\"/wiki/Piccadilly_Jim_(2004_film)\" title=\"Piccadilly Jim (2004 film)\">Piccadilly Jim</a></i> (2004)</li></ul>\\n</div></td></tr><tr><th scope=\"row\" class=\"navbox-group\" style=\"width:1%\">Television</th><td class=\"navbox-list navbox-odd\" style=\"text-align:left;border-left-width:2px;border-left-style:solid;width:100%;padding:0px\"><div style=\"padding:0em 0.25em\">\\n<ul><li><i><a href=\"/wiki/The_World_of_Wooster\" title=\"The World of Wooster\">The World of Wooster</a></i> (1965–67)</li>\\n<li><i><a href=\"/wiki/The_World_of_Wodehouse\" title=\"The World of Wodehouse\">The World of Wodehouse</a></i> (1967–68)</li>\\n<li><i><a href=\"/wiki/Wodehouse_Playhouse\" title=\"Wodehouse Playhouse\">Wodehouse Playhouse</a></i> (1975–78)</li>\\n<li><i><a href=\"/wiki/Jeeves_and_Wooster\" title=\"Jeeves and Wooster\">Jeeves and Wooster</a></i> (1990–93)</li>\\n<li><i><a href=\"/wiki/Heavy_Weather_(film)\" title=\"Heavy Weather (film)\">Heavy Weather</a></i> (1995)</li>\\n<li><i><a href=\"/wiki/Blandings_(TV_series)\" title=\"Blandings (TV series)\">Blandings</a></i> (2013–14)</li></ul>\\n</div></td></tr><tr><th scope=\"row\" class=\"navbox-group\" style=\"width:1%\">Radio</th><td class=\"navbox-list navbox-even\" style=\"text-align:left;border-left-width:2px;border-left-style:solid;width:100%;padding:0px\"><div style=\"padding:0em 0.25em\">\\n<ul><li><i><a href=\"/wiki/What_Ho!_Jeeves\" title=\"What Ho! Jeeves\">What Ho! Jeeves</a></i> (1973–81)</li>\\n<li><i><a href=\"/wiki/Blandings_(radio_series)\" title=\"Blandings (radio series)\">Blandings</a></i> (1985–92)</li></ul>\\n</div></td></tr><tr><th scope=\"row\" class=\"navbox-group\" style=\"width:1%\">Comics</th><td class=\"navbox-list navbox-odd\" style=\"text-align:left;border-left-width:2px;border-left-style:solid;width:100%;padding:0px\"><div style=\"padding:0em 0.25em\">\\n<ul><li><i><a href=\"/wiki/Please,_Jeeves\" title=\"Please, Jeeves\">Please, Jeeves</a></i> (2008–14)</li></ul>\\n</div></td></tr></tbody></table></div>\\n<table class=\"metadata plainlinks stub\" role=\"presentation\" style=\"background:transparent\"><tbody><tr><td><a href=\"/wiki/File:Books-aj.svg_aj_ashton_01b.svg\" class=\"image\"><img alt=\"Stub icon\" src=\"//upload.wikimedia.org/wikipedia/commons/thumb/2/29/Books-aj.svg_aj_ashton_01b.svg/34px-Books-aj.svg_aj_ashton_01b.svg.png\" decoding=\"async\" width=\"34\" height=\"30\" srcset=\"//upload.wikimedia.org/wikipedia/commons/thumb/2/29/Books-aj.svg_aj_ashton_01b.svg/51px-Books-aj.svg_aj_ashton_01b.svg.png 1.5x, //upload.wikimedia.org/wikipedia/commons/thumb/2/29/Books-aj.svg_aj_ashton_01b.svg/68px-Books-aj.svg_aj_ashton_01b.svg.png 2x\" data-file-width=\"309\" data-file-height=\"274\" /></a></td><td><i>This article about a 1950s novel is a <a href=\"/wiki/Wikipedia:Stub\" title=\"Wikipedia:Stub\">stub</a>. You can help Wikipedia by <a class=\"external text\" href=\"//en.wikipedia.org/w/index.php?title=Something_Fishy&amp;action=edit\">expanding it</a>.</i><div class=\"plainlinks hlist navbar mini\" style=\"position: absolute; right: 15px; display: none;\"><ul><li class=\"nv-view\"><a href=\"/wiki/Template:1950s-novel-stub\" title=\"Template:1950s-novel-stub\"><abbr title=\"View this template\">v</abbr></a></li><li class=\"nv-talk\"><a href=\"/wiki/Template_talk:1950s-novel-stub\" title=\"Template talk:1950s-novel-stub\"><abbr title=\"Discuss this template\">t</abbr></a></li><li class=\"nv-edit\"><a class=\"external text\" href=\"//en.wikipedia.org/w/index.php?title=Template:1950s-novel-stub&amp;action=edit\"><abbr title=\"Edit this template\">e</abbr></a></li></ul></div><br /><span style=\"font-style:normal;font-size:smaller\"><a href=\"/wiki/Wikipedia:Manual_of_Style/Novels\" title=\"Wikipedia:Manual of Style/Novels\">See guidelines for writing about novels</a>. Further suggestions might be found on the article\\'s <a href=\"/wiki/Talk:Something_Fishy\" title=\"Talk:Something Fishy\">talk page</a>.</span></td></tr></tbody></table>\\t\\t \\n\\n<!-- \\nNewPP limit report\\nParsed by mw1263\\nCached time: 20190611004949\\nCache expiry: 2592000\\nDynamic content: false\\nComplications: []\\nCPU time usage: 0.168 seconds\\nReal time usage: 0.239 seconds\\nPreprocessor visited node count: 450/1000000\\nPreprocessor generated node count: 0/1500000\\nPost‐expand include size: 36385/2097152 bytes\\nTemplate argument size: 586/2097152 bytes\\nHighest expansion depth: 13/40\\nExpensive parser function count: 0/500\\nUnstrip recursion depth: 1/20\\nUnstrip post‐expand size: 2509/5000000 bytes\\nNumber of Wikibase entities loaded: 0/400\\nLua time usage: 0.035/10.000 seconds\\nLua memory usage: 1.58 MB/50 MB\\n-->\\n<!--\\nTransclusion expansion time report (%,ms,calls,template)\\n100.00%  185.804      1 -total\\n 48.81%   90.696      1 Template:Reflist\\n 43.30%   80.448      1 Template:ISBN\\n 28.50%   52.960      1 Template:Catalog_lookup_link\\n 20.31%   37.737      1 Template:Short_description\\n 18.82%   34.977      1 Template:Pagetype\\n  8.40%   15.609      1 Template:P._G._Wodehouse\\n  7.77%   14.429      1 Template:1950s-novel-stub\\n  7.51%   13.945      1 Template:About\\n  6.83%   12.686      1 Template:Navbox\\n-->\\n\\n<!-- Saved in parser cache with key enwiki:pcache:idhash:4091926-0!canonical and timestamp 20190611004949 and revision id 901304222\\n -->\\n</div><noscript><img src=\"//en.wikipedia.org/wiki/Special:CentralAutoLogin/start?type=1x1\" alt=\"\" title=\"\" width=\"1\" height=\"1\" style=\"border: none; position: absolute;\" /></noscript></div>\\n\\t\\t\\n\\t\\t<div class=\"printfooter\">Retrieved from \"<a dir=\"ltr\" href=\"https://en.wikipedia.org/w/index.php?title=Something_Fishy&amp;oldid=901304222\">https://en.wikipedia.org/w/index.php?title=Something_Fishy&amp;oldid=901304222</a>\"</div>\\n\\t\\t\\n\\t\\t<div id=\"catlinks\" class=\"catlinks\" data-mw=\"interface\"><div id=\"mw-normal-catlinks\" class=\"mw-normal-catlinks\"><a href=\"/wiki/Help:Category\" title=\"Help:Category\">Categories</a>: <ul><li><a href=\"/wiki/Category:Novels_by_P._G._Wodehouse\" title=\"Category:Novels by P. G. Wodehouse\">Novels by P. G. Wodehouse</a></li><li><a href=\"/wiki/Category:English_novels\" title=\"Category:English novels\">English novels</a></li><li><a href=\"/wiki/Category:1957_British_novels\" title=\"Category:1957 British novels\">1957 British novels</a></li><li><a href=\"/wiki/Category:Herbert_Jenkins_books\" title=\"Category:Herbert Jenkins books\">Herbert Jenkins books</a></li><li><a href=\"/wiki/Category:Fiction_set_in_1929\" title=\"Category:Fiction set in 1929\">Fiction set in 1929</a></li><li><a href=\"/wiki/Category:Fiction_set_in_1955\" title=\"Category:Fiction set in 1955\">Fiction set in 1955</a></li><li><a href=\"/wiki/Category:1950s_novel_stubs\" title=\"Category:1950s novel stubs\">1950s novel stubs</a></li></ul></div><div id=\"mw-hidden-catlinks\" class=\"mw-hidden-catlinks mw-hidden-cats-hidden\">Hidden categories: <ul><li><a href=\"/wiki/Category:Articles_with_short_description\" title=\"Category:Articles with short description\">Articles with short description</a></li><li><a href=\"/wiki/Category:All_stub_articles\" title=\"Category:All stub articles\">All stub articles</a></li></ul></div></div>\\n\\t\\t\\n\\t\\t<div class=\"visualClear\"></div>\\n\\t\\t\\n\\t</div>\\n</div>\\n\\n\\t\\t<div id=\"mw-navigation\">\\n\\t\\t\\t<h2>Navigation menu</h2>\\n\\t\\t\\t<div id=\"mw-head\">\\n\\t\\t\\t\\t\\t\\t\\t\\t\\t<div id=\"p-personal\" role=\"navigation\" aria-labelledby=\"p-personal-label\">\\n\\t\\t\\t\\t\\t\\t<h3 id=\"p-personal-label\">Personal tools</h3>\\n\\t\\t\\t\\t\\t\\t<ul>\\n\\t\\t\\t\\t\\t\\t\\t<li id=\"pt-anonuserpage\">Not logged in</li><li id=\"pt-anontalk\"><a href=\"/wiki/Special:MyTalk\" title=\"Discussion about edits from this IP address [n]\" accesskey=\"n\">Talk</a></li><li id=\"pt-anoncontribs\"><a href=\"/wiki/Special:MyContributions\" title=\"A list of edits made from this IP address [y]\" accesskey=\"y\">Contributions</a></li><li id=\"pt-createaccount\"><a href=\"/w/index.php?title=Special:CreateAccount&amp;returnto=Something+Fishy\" title=\"You are encouraged to create an account and log in; however, it is not mandatory\">Create account</a></li><li id=\"pt-login\"><a href=\"/w/index.php?title=Special:UserLogin&amp;returnto=Something+Fishy\" title=\"You&#039;re encouraged to log in; however, it&#039;s not mandatory. [o]\" accesskey=\"o\">Log in</a></li>\\t\\t\\t\\t\\t\\t</ul>\\n\\t\\t\\t\\t\\t</div>\\n\\t\\t\\t\\t\\t\\t\\t\\t\\t<div id=\"left-navigation\">\\n\\t\\t\\t\\t\\t\\t\\t\\t\\t\\t<div id=\"p-namespaces\" role=\"navigation\" class=\"vectorTabs\" aria-labelledby=\"p-namespaces-label\">\\n\\t\\t\\t\\t\\t\\t<h3 id=\"p-namespaces-label\">Namespaces</h3>\\n\\t\\t\\t\\t\\t\\t<ul>\\n\\t\\t\\t\\t\\t\\t\\t<li id=\"ca-nstab-main\" class=\"selected\"><span><a href=\"/wiki/Something_Fishy\" title=\"View the content page [c]\" accesskey=\"c\">Article</a></span></li><li id=\"ca-talk\"><span><a href=\"/wiki/Talk:Something_Fishy\" rel=\"discussion\" title=\"Discussion about the content page [t]\" accesskey=\"t\">Talk</a></span></li>\\t\\t\\t\\t\\t\\t</ul>\\n\\t\\t\\t\\t\\t</div>\\n\\t\\t\\t\\t\\t\\t\\t\\t\\t\\t<div id=\"p-variants\" role=\"navigation\" class=\"vectorMenu emptyPortlet\" aria-labelledby=\"p-variants-label\">\\n\\t\\t\\t\\t\\t\\t\\t\\t\\t\\t\\t\\t<input type=\"checkbox\" class=\"vectorMenuCheckbox\" aria-labelledby=\"p-variants-label\" />\\n\\t\\t\\t\\t\\t\\t<h3 id=\"p-variants-label\">\\n\\t\\t\\t\\t\\t\\t\\t<span>Variants</span>\\n\\t\\t\\t\\t\\t\\t</h3>\\n\\t\\t\\t\\t\\t\\t<ul class=\"menu\">\\n\\t\\t\\t\\t\\t\\t\\t\\t\\t\\t\\t\\t\\t</ul>\\n\\t\\t\\t\\t\\t</div>\\n\\t\\t\\t\\t\\t\\t\\t\\t\\t</div>\\n\\t\\t\\t\\t<div id=\"right-navigation\">\\n\\t\\t\\t\\t\\t\\t\\t\\t\\t\\t<div id=\"p-views\" role=\"navigation\" class=\"vectorTabs\" aria-labelledby=\"p-views-label\">\\n\\t\\t\\t\\t\\t\\t<h3 id=\"p-views-label\">Views</h3>\\n\\t\\t\\t\\t\\t\\t<ul>\\n\\t\\t\\t\\t\\t\\t\\t<li id=\"ca-view\" class=\"collapsible selected\"><span><a href=\"/wiki/Something_Fishy\">Read</a></span></li><li id=\"ca-edit\" class=\"collapsible\"><span><a href=\"/w/index.php?title=Something_Fishy&amp;action=edit\" title=\"Edit this page [e]\" accesskey=\"e\">Edit</a></span></li><li id=\"ca-history\" class=\"collapsible\"><span><a href=\"/w/index.php?title=Something_Fishy&amp;action=history\" title=\"Past revisions of this page [h]\" accesskey=\"h\">View history</a></span></li>\\t\\t\\t\\t\\t\\t</ul>\\n\\t\\t\\t\\t\\t</div>\\n\\t\\t\\t\\t\\t\\t\\t\\t\\t\\t<div id=\"p-cactions\" role=\"navigation\" class=\"vectorMenu emptyPortlet\" aria-labelledby=\"p-cactions-label\">\\n\\t\\t\\t\\t\\t\\t<input type=\"checkbox\" class=\"vectorMenuCheckbox\" aria-labelledby=\"p-cactions-label\" />\\n\\t\\t\\t\\t\\t\\t<h3 id=\"p-cactions-label\"><span>More</span></h3>\\n\\t\\t\\t\\t\\t\\t<ul class=\"menu\">\\n\\t\\t\\t\\t\\t\\t\\t\\t\\t\\t\\t\\t\\t</ul>\\n\\t\\t\\t\\t\\t</div>\\n\\t\\t\\t\\t\\t\\t\\t\\t\\t\\t<div id=\"p-search\" role=\"search\">\\n\\t\\t\\t\\t\\t\\t<h3>\\n\\t\\t\\t\\t\\t\\t\\t<label for=\"searchInput\">Search</label>\\n\\t\\t\\t\\t\\t\\t</h3>\\n\\t\\t\\t\\t\\t\\t<form action=\"/w/index.php\" id=\"searchform\">\\n\\t\\t\\t\\t\\t\\t\\t<div id=\"simpleSearch\">\\n\\t\\t\\t\\t\\t\\t\\t\\t<input type=\"search\" name=\"search\" placeholder=\"Search Wikipedia\" title=\"Search Wikipedia [f]\" accesskey=\"f\" id=\"searchInput\"/><input type=\"hidden\" value=\"Special:Search\" name=\"title\"/><input type=\"submit\" name=\"fulltext\" value=\"Search\" title=\"Search Wikipedia for this text\" id=\"mw-searchButton\" class=\"searchButton mw-fallbackSearchButton\"/><input type=\"submit\" name=\"go\" value=\"Go\" title=\"Go to a page with this exact name if it exists\" id=\"searchButton\" class=\"searchButton\"/>\\t\\t\\t\\t\\t\\t\\t</div>\\n\\t\\t\\t\\t\\t\\t</form>\\n\\t\\t\\t\\t\\t</div>\\n\\t\\t\\t\\t\\t\\t\\t\\t\\t</div>\\n\\t\\t\\t</div>\\n\\t\\t\\t<div id=\"mw-panel\">\\n\\t\\t\\t\\t<div id=\"p-logo\" role=\"banner\"><a class=\"mw-wiki-logo\" href=\"/wiki/Main_Page\" title=\"Visit the main page\"></a></div>\\n\\t\\t\\t\\t\\t\\t<div class=\"portal\" role=\"navigation\" id=\"p-navigation\" aria-labelledby=\"p-navigation-label\">\\n\\t\\t\\t<h3 id=\"p-navigation-label\">Navigation</h3>\\n\\t\\t\\t<div class=\"body\">\\n\\t\\t\\t\\t\\t\\t\\t\\t<ul>\\n\\t\\t\\t\\t\\t<li id=\"n-mainpage-description\"><a href=\"/wiki/Main_Page\" title=\"Visit the main page [z]\" accesskey=\"z\">Main page</a></li><li id=\"n-contents\"><a href=\"/wiki/Portal:Contents\" title=\"Guides to browsing Wikipedia\">Contents</a></li><li id=\"n-featuredcontent\"><a href=\"/wiki/Portal:Featured_content\" title=\"Featured content – the best of Wikipedia\">Featured content</a></li><li id=\"n-currentevents\"><a href=\"/wiki/Portal:Current_events\" title=\"Find background information on current events\">Current events</a></li><li id=\"n-randompage\"><a href=\"/wiki/Special:Random\" title=\"Load a random article [x]\" accesskey=\"x\">Random article</a></li><li id=\"n-sitesupport\"><a href=\"https://donate.wikimedia.org/wiki/Special:FundraiserRedirector?utm_source=donate&amp;utm_medium=sidebar&amp;utm_campaign=C13_en.wikipedia.org&amp;uselang=en\" title=\"Support us\">Donate to Wikipedia</a></li><li id=\"n-shoplink\"><a href=\"//shop.wikimedia.org\" title=\"Visit the Wikipedia store\">Wikipedia store</a></li>\\t\\t\\t\\t</ul>\\n\\t\\t\\t\\t\\t\\t\\t</div>\\n\\t\\t</div>\\n\\t\\t\\t<div class=\"portal\" role=\"navigation\" id=\"p-interaction\" aria-labelledby=\"p-interaction-label\">\\n\\t\\t\\t<h3 id=\"p-interaction-label\">Interaction</h3>\\n\\t\\t\\t<div class=\"body\">\\n\\t\\t\\t\\t\\t\\t\\t\\t<ul>\\n\\t\\t\\t\\t\\t<li id=\"n-help\"><a href=\"/wiki/Help:Contents\" title=\"Guidance on how to use and edit Wikipedia\">Help</a></li><li id=\"n-aboutsite\"><a href=\"/wiki/Wikipedia:About\" title=\"Find out about Wikipedia\">About Wikipedia</a></li><li id=\"n-portal\"><a href=\"/wiki/Wikipedia:Community_portal\" title=\"About the project, what you can do, where to find things\">Community portal</a></li><li id=\"n-recentchanges\"><a href=\"/wiki/Special:RecentChanges\" title=\"A list of recent changes in the wiki [r]\" accesskey=\"r\">Recent changes</a></li><li id=\"n-contactpage\"><a href=\"//en.wikipedia.org/wiki/Wikipedia:Contact_us\" title=\"How to contact Wikipedia\">Contact page</a></li>\\t\\t\\t\\t</ul>\\n\\t\\t\\t\\t\\t\\t\\t</div>\\n\\t\\t</div>\\n\\t\\t\\t<div class=\"portal\" role=\"navigation\" id=\"p-tb\" aria-labelledby=\"p-tb-label\">\\n\\t\\t\\t<h3 id=\"p-tb-label\">Tools</h3>\\n\\t\\t\\t<div class=\"body\">\\n\\t\\t\\t\\t\\t\\t\\t\\t<ul>\\n\\t\\t\\t\\t\\t<li id=\"t-whatlinkshere\"><a href=\"/wiki/Special:WhatLinksHere/Something_Fishy\" title=\"List of all English Wikipedia pages containing links to this page [j]\" accesskey=\"j\">What links here</a></li><li id=\"t-recentchangeslinked\"><a href=\"/wiki/Special:RecentChangesLinked/Something_Fishy\" rel=\"nofollow\" title=\"Recent changes in pages linked from this page [k]\" accesskey=\"k\">Related changes</a></li><li id=\"t-upload\"><a href=\"/wiki/Wikipedia:File_Upload_Wizard\" title=\"Upload files [u]\" accesskey=\"u\">Upload file</a></li><li id=\"t-specialpages\"><a href=\"/wiki/Special:SpecialPages\" title=\"A list of all special pages [q]\" accesskey=\"q\">Special pages</a></li><li id=\"t-permalink\"><a href=\"/w/index.php?title=Something_Fishy&amp;oldid=901304222\" title=\"Permanent link to this revision of the page\">Permanent link</a></li><li id=\"t-info\"><a href=\"/w/index.php?title=Something_Fishy&amp;action=info\" title=\"More information about this page\">Page information</a></li><li id=\"t-wikibase\"><a href=\"https://www.wikidata.org/wiki/Special:EntityPage/Q7560098\" title=\"Link to connected data repository item [g]\" accesskey=\"g\">Wikidata item</a></li><li id=\"t-cite\"><a href=\"/w/index.php?title=Special:CiteThisPage&amp;page=Something_Fishy&amp;id=901304222\" title=\"Information on how to cite this page\">Cite this page</a></li>\\t\\t\\t\\t</ul>\\n\\t\\t\\t\\t\\t\\t\\t</div>\\n\\t\\t</div>\\n\\t\\t\\t<div class=\"portal\" role=\"navigation\" id=\"p-coll-print_export\" aria-labelledby=\"p-coll-print_export-label\">\\n\\t\\t\\t<h3 id=\"p-coll-print_export-label\">Print/export</h3>\\n\\t\\t\\t<div class=\"body\">\\n\\t\\t\\t\\t\\t\\t\\t\\t<ul>\\n\\t\\t\\t\\t\\t<li id=\"coll-create_a_book\"><a href=\"/w/index.php?title=Special:Book&amp;bookcmd=book_creator&amp;referer=Something+Fishy\">Create a book</a></li><li id=\"coll-download-as-rl\"><a href=\"/w/index.php?title=Special:ElectronPdf&amp;page=Something+Fishy&amp;action=show-download-screen\">Download as PDF</a></li><li id=\"t-print\"><a href=\"/w/index.php?title=Something_Fishy&amp;printable=yes\" title=\"Printable version of this page [p]\" accesskey=\"p\">Printable version</a></li>\\t\\t\\t\\t</ul>\\n\\t\\t\\t\\t\\t\\t\\t</div>\\n\\t\\t</div>\\n\\t\\t\\t<div class=\"portal\" role=\"navigation\" id=\"p-lang\" aria-labelledby=\"p-lang-label\">\\n\\t\\t\\t<h3 id=\"p-lang-label\">Languages</h3>\\n\\t\\t\\t<div class=\"body\">\\n\\t\\t\\t\\t\\t\\t\\t\\t<ul>\\n\\t\\t\\t\\t\\t<li class=\"interlanguage-link interwiki-sv\"><a href=\"https://sv.wikipedia.org/wiki/R%C3%A4vspel_(roman)\" title=\"Rävspel (roman) – Swedish\" lang=\"sv\" hreflang=\"sv\" class=\"interlanguage-link-target\">Svenska</a></li>\\t\\t\\t\\t</ul>\\n\\t\\t\\t\\t<div class=\"after-portlet after-portlet-lang\"><span class=\"wb-langlinks-edit wb-langlinks-link\"><a href=\"https://www.wikidata.org/wiki/Special:EntityPage/Q7560098#sitelinks-wikipedia\" title=\"Edit interlanguage links\" class=\"wbc-editpage\">Edit links</a></span></div>\\t\\t\\t</div>\\n\\t\\t</div>\\n\\t\\t\\t\\t</div>\\n\\t\\t</div>\\n\\t\\t\\t\\t<div id=\"footer\" role=\"contentinfo\">\\n\\t\\t\\t\\t\\t\\t<ul id=\"footer-info\">\\n\\t\\t\\t\\t\\t\\t\\t\\t<li id=\"footer-info-lastmod\"> This page was last edited on 11 June 2019, at 00:49<span class=\"anonymous-show\">&#160;(UTC)</span>.</li>\\n\\t\\t\\t\\t\\t\\t\\t\\t<li id=\"footer-info-copyright\">Text is available under the <a rel=\"license\" href=\"//en.wikipedia.org/wiki/Wikipedia:Text_of_Creative_Commons_Attribution-ShareAlike_3.0_Unported_License\">Creative Commons Attribution-ShareAlike License</a><a rel=\"license\" href=\"//creativecommons.org/licenses/by-sa/3.0/\" style=\"display:none;\"></a>;\\nadditional terms may apply.  By using this site, you agree to the <a href=\"//foundation.wikimedia.org/wiki/Terms_of_Use\">Terms of Use</a> and <a href=\"//foundation.wikimedia.org/wiki/Privacy_policy\">Privacy Policy</a>. Wikipedia® is a registered trademark of the <a href=\"//www.wikimediafoundation.org/\">Wikimedia Foundation, Inc.</a>, a non-profit organization.</li>\\n\\t\\t\\t\\t\\t\\t\\t</ul>\\n\\t\\t\\t\\t\\t\\t<ul id=\"footer-places\">\\n\\t\\t\\t\\t\\t\\t\\t\\t<li id=\"footer-places-privacy\"><a href=\"https://foundation.wikimedia.org/wiki/Privacy_policy\" class=\"extiw\" title=\"wmf:Privacy policy\">Privacy policy</a></li>\\n\\t\\t\\t\\t\\t\\t\\t\\t<li id=\"footer-places-about\"><a href=\"/wiki/Wikipedia:About\" title=\"Wikipedia:About\">About Wikipedia</a></li>\\n\\t\\t\\t\\t\\t\\t\\t\\t<li id=\"footer-places-disclaimer\"><a href=\"/wiki/Wikipedia:General_disclaimer\" title=\"Wikipedia:General disclaimer\">Disclaimers</a></li>\\n\\t\\t\\t\\t\\t\\t\\t\\t<li id=\"footer-places-contact\"><a href=\"//en.wikipedia.org/wiki/Wikipedia:Contact_us\">Contact Wikipedia</a></li>\\n\\t\\t\\t\\t\\t\\t\\t\\t<li id=\"footer-places-developers\"><a href=\"https://www.mediawiki.org/wiki/Special:MyLanguage/How_to_contribute\">Developers</a></li>\\n\\t\\t\\t\\t\\t\\t\\t\\t<li id=\"footer-places-cookiestatement\"><a href=\"https://foundation.wikimedia.org/wiki/Cookie_statement\">Cookie statement</a></li>\\n\\t\\t\\t\\t\\t\\t\\t\\t<li id=\"footer-places-mobileview\"><a href=\"//en.m.wikipedia.org/w/index.php?title=Something_Fishy&amp;mobileaction=toggle_view_mobile\" class=\"noprint stopMobileRedirectToggle\">Mobile view</a></li>\\n\\t\\t\\t\\t\\t\\t\\t</ul>\\n\\t\\t\\t\\t\\t\\t\\t\\t\\t\\t<ul id=\"footer-icons\" class=\"noprint\">\\n\\t\\t\\t\\t\\t\\t\\t\\t\\t\\t<li id=\"footer-copyrightico\">\\n\\t\\t\\t\\t\\t\\t<a href=\"https://wikimediafoundation.org/\"><img src=\"/static/images/wikimedia-button.png\" srcset=\"/static/images/wikimedia-button-1.5x.png 1.5x, /static/images/wikimedia-button-2x.png 2x\" width=\"88\" height=\"31\" alt=\"Wikimedia Foundation\"/></a>\\t\\t\\t\\t\\t</li>\\n\\t\\t\\t\\t\\t\\t\\t\\t\\t\\t<li id=\"footer-poweredbyico\">\\n\\t\\t\\t\\t\\t\\t<a href=\"https://www.mediawiki.org/\"><img src=\"/static/images/poweredby_mediawiki_88x31.png\" alt=\"Powered by MediaWiki\" srcset=\"/static/images/poweredby_mediawiki_132x47.png 1.5x, /static/images/poweredby_mediawiki_176x62.png 2x\" width=\"88\" height=\"31\"/></a>\\t\\t\\t\\t\\t</li>\\n\\t\\t\\t\\t\\t\\t\\t\\t\\t</ul>\\n\\t\\t\\t\\t\\t\\t<div style=\"clear: both;\"></div>\\n\\t\\t</div>\\n\\t\\t\\n\\n<script>(RLQ=window.RLQ||[]).push(function(){mw.config.set({\"wgPageParseReport\":{\"limitreport\":{\"cputime\":\"0.168\",\"walltime\":\"0.239\",\"ppvisitednodes\":{\"value\":450,\"limit\":1000000},\"ppgeneratednodes\":{\"value\":0,\"limit\":1500000},\"postexpandincludesize\":{\"value\":36385,\"limit\":2097152},\"templateargumentsize\":{\"value\":586,\"limit\":2097152},\"expansiondepth\":{\"value\":13,\"limit\":40},\"expensivefunctioncount\":{\"value\":0,\"limit\":500},\"unstrip-depth\":{\"value\":1,\"limit\":20},\"unstrip-size\":{\"value\":2509,\"limit\":5000000},\"entityaccesscount\":{\"value\":0,\"limit\":400},\"timingprofile\":[\"100.00%  185.804      1 -total\",\" 48.81%   90.696      1 Template:Reflist\",\" 43.30%   80.448      1 Template:ISBN\",\" 28.50%   52.960      1 Template:Catalog_lookup_link\",\" 20.31%   37.737      1 Template:Short_description\",\" 18.82%   34.977      1 Template:Pagetype\",\"  8.40%   15.609      1 Template:P._G._Wodehouse\",\"  7.77%   14.429      1 Template:1950s-novel-stub\",\"  7.51%   13.945      1 Template:About\",\"  6.83%   12.686      1 Template:Navbox\"]},\"scribunto\":{\"limitreport-timeusage\":{\"value\":\"0.035\",\"limit\":\"10.000\"},\"limitreport-memusage\":{\"value\":1652128,\"limit\":52428800}},\"cachereport\":{\"origin\":\"mw1263\",\"timestamp\":\"20190611004949\",\"ttl\":2592000,\"transientcontent\":false}}});});</script>\\n<script type=\"application/ld+json\">{\"@context\":\"https:\\\\/\\\\/schema.org\",\"@type\":\"Article\",\"name\":\"Something Fishy\",\"url\":\"https:\\\\/\\\\/en.wikipedia.org\\\\/wiki\\\\/Something_Fishy\",\"sameAs\":\"http:\\\\/\\\\/www.wikidata.org\\\\/entity\\\\/Q7560098\",\"mainEntity\":\"http:\\\\/\\\\/www.wikidata.org\\\\/entity\\\\/Q7560098\",\"author\":{\"@type\":\"Organization\",\"name\":\"Contributors to Wikimedia projects\"},\"publisher\":{\"@type\":\"Organization\",\"name\":\"Wikimedia Foundation, Inc.\",\"logo\":{\"@type\":\"ImageObject\",\"url\":\"https:\\\\/\\\\/www.wikimedia.org\\\\/static\\\\/images\\\\/wmf-hor-googpub.png\"}},\"datePublished\":\"2006-02-16T10:27:18Z\",\"dateModified\":\"2019-06-11T00:49:48Z\",\"image\":\"https:\\\\/\\\\/upload.wikimedia.org\\\\/wikipedia\\\\/en\\\\/1\\\\/14\\\\/SomethingFishy.jpg\",\"headline\":\"book by P.G. Wodehouse\"}</script>\\n<script>(RLQ=window.RLQ||[]).push(function(){mw.config.set({\"wgBackendResponseTime\":105,\"wgHostname\":\"mw1320\"});});</script>\\n</body>\\n</html>\\n'"
            ]
          },
          "metadata": {
            "tags": []
          },
          "execution_count": 29
        }
      ]
    },
    {
      "cell_type": "code",
      "metadata": {
        "id": "GMYTU5BiR-Tn",
        "colab_type": "code",
        "colab": {}
      },
      "source": [
        "#parsing library - html.parser and lxml\n",
        "soup=BeautifulSoup(response.text, \"lxml\")"
      ],
      "execution_count": 0,
      "outputs": []
    },
    {
      "cell_type": "code",
      "metadata": {
        "id": "wfHAIlqgS2PI",
        "colab_type": "code",
        "colab": {
          "base_uri": "https://localhost:8080/",
          "height": 54
        },
        "outputId": "5a246976-ee55-4199-c064-19e79436bba8"
      },
      "source": [
        "soup.text"
      ],
      "execution_count": 31,
      "outputs": [
        {
          "output_type": "execute_result",
          "data": {
            "text/plain": [
              "'\\n\\n\\nSomething Fishy - Wikipedia\\ndocument.documentElement.className=document.documentElement.className.replace(/(^|\\\\s)client-nojs(\\\\s|$)/,\"$1client-js$2\");RLCONF={\"wgCanonicalNamespace\":\"\",\"wgCanonicalSpecialPageName\":!1,\"wgNamespaceNumber\":0,\"wgPageName\":\"Something_Fishy\",\"wgTitle\":\"Something Fishy\",\"wgCurRevisionId\":901304222,\"wgRevisionId\":901304222,\"wgArticleId\":4091926,\"wgIsArticle\":!0,\"wgIsRedirect\":!1,\"wgAction\":\"view\",\"wgUserName\":null,\"wgUserGroups\":[\"*\"],\"wgCategories\":[\"Articles with short description\",\"All stub articles\",\"Novels by P. G. Wodehouse\",\"English novels\",\"1957 British novels\",\"Herbert Jenkins books\",\"Fiction set in 1929\",\"Fiction set in 1955\",\"1950s novel stubs\"],\"wgBreakFrames\":!1,\"wgPageContentLanguage\":\"en\",\"wgPageContentModel\":\"wikitext\",\"wgSeparatorTransformTable\":[\"\",\"\"],\"wgDigitTransformTable\":[\"\",\"\"],\"wgDefaultDateFormat\":\"dmy\",\"wgMonthNames\":[\"\",\"January\",\"February\",\"March\",\"April\",\"May\",\"June\",\"July\",\"August\",\"September\",\"October\",\"November\",\"December\"],\"wgMonthNamesShort\":[\\n\"\",\"Jan\",\"Feb\",\"Mar\",\"Apr\",\"May\",\"Jun\",\"Jul\",\"Aug\",\"Sep\",\"Oct\",\"Nov\",\"Dec\"],\"wgRelevantPageName\":\"Something_Fishy\",\"wgRelevantArticleId\":4091926,\"wgRequestId\":\"XRSS7gpAICkAAHyCA3sAAABD\",\"wgCSPNonce\":!1,\"wgIsProbablyEditable\":!0,\"wgRelevantPageIsProbablyEditable\":!0,\"wgRestrictionEdit\":[],\"wgRestrictionMove\":[],\"wgMediaViewerOnClick\":!0,\"wgMediaViewerEnabledByDefault\":!0,\"wgPopupsReferencePreviews\":!1,\"wgPopupsConflictsWithNavPopupGadget\":!1,\"wgVisualEditor\":{\"pageLanguageCode\":\"en\",\"pageLanguageDir\":\"ltr\",\"pageVariantFallbacks\":\"en\"},\"wgMFDisplayWikibaseDescriptions\":{\"search\":!0,\"nearby\":!0,\"watchlist\":!0,\"tagline\":!1},\"wgWMESchemaEditAttemptStepOversample\":!1,\"wgPoweredByHHVM\":!0,\"wgULSCurrentAutonym\":\"English\",\"wgNoticeProject\":\"wikipedia\",\"wgCentralNoticeCategoriesUsingLegacy\":[\"Fundraising\",\"fundraising\"],\"wgWikibaseItemId\":\"Q7560098\",\"wgCentralAuthMobileDomain\":!1,\"wgEditSubmitButtonLabelPublish\":!0};RLSTATE={\"ext.gadget.charinsert-styles\":\\n\"ready\",\"ext.globalCssJs.user.styles\":\"ready\",\"ext.globalCssJs.site.styles\":\"ready\",\"site.styles\":\"ready\",\"noscript\":\"ready\",\"user.styles\":\"ready\",\"ext.globalCssJs.user\":\"ready\",\"ext.globalCssJs.site\":\"ready\",\"user\":\"ready\",\"user.options\":\"ready\",\"user.tokens\":\"loading\",\"ext.cite.styles\":\"ready\",\"mediawiki.legacy.shared\":\"ready\",\"mediawiki.legacy.commonPrint\":\"ready\",\"wikibase.client.init\":\"ready\",\"ext.visualEditor.desktopArticleTarget.noscript\":\"ready\",\"ext.uls.interlanguage\":\"ready\",\"ext.wikimediaBadges\":\"ready\",\"ext.3d.styles\":\"ready\",\"mediawiki.skinning.interface\":\"ready\",\"skins.vector.styles\":\"ready\"};RLPAGEMODULES=[\"ext.cite.ux-enhancements\",\"site\",\"mediawiki.page.startup\",\"mediawiki.page.ready\",\"mediawiki.searchSuggest\",\"ext.gadget.teahouse\",\"ext.gadget.ReferenceTooltips\",\"ext.gadget.watchlist-notice\",\"ext.gadget.DRN-wizard\",\"ext.gadget.charinsert\",\"ext.gadget.refToolbar\",\"ext.gadget.extra-toolbar-buttons\",\"ext.gadget.switcher\",\"ext.centralauth.centralautologin\",\"mmv.head\",\\n\"mmv.bootstrap.autostart\",\"ext.popups\",\"ext.visualEditor.desktopArticleTarget.init\",\"ext.visualEditor.targetLoader\",\"ext.eventLogging\",\"ext.wikimediaEvents\",\"ext.navigationTiming\",\"ext.uls.compactlinks\",\"ext.uls.interface\",\"ext.quicksurveys.init\",\"ext.centralNotice.geoIP\",\"ext.centralNotice.startUp\",\"skins.vector.js\"];\\n(RLQ=window.RLQ||[]).push(function(){mw.loader.implement(\"user.tokens@0tffind\",function($,jQuery,require,module){/*@nomin*/mw.user.tokens.set({\"editToken\":\"+\\\\\\\\\",\"patrolToken\":\"+\\\\\\\\\",\"watchToken\":\"+\\\\\\\\\",\"csrfToken\":\"+\\\\\\\\\"});\\n});});\\n\\n\\n\\n\\n\\n\\n\\n\\n\\n\\n\\n\\n\\n\\n\\n\\n\\n\\n\\n\\n\\n\\n\\n\\n\\n\\n\\n\\n\\n\\n\\nSomething Fishy\\n\\nFrom Wikipedia, the free encyclopedia\\n\\n\\nJump to navigation\\nJump to search\\n1957 novel by P.G. Wodehouse\\nThis article is about the 1957 novel by P. G. Wodehouse. For the 1994 French film, see Something Fishy (film).\\n First edition\\nSomething Fishy is a novel by P. G. Wodehouse, first published in the United Kingdom on 18 January 1957 by Herbert Jenkins, London and in the United States on January 28, 1957 by Simon & Schuster, Inc., New York, under the title The Butler Did It.[1]\\nThe plot concerns a tontine formed by a group of wealthy men weeks before the 1929 stock market crash, and a butler named Keggs who, having overheard the planning of the scheme, years later decides to try to make money out of his knowledge.\\nThe novel features hero Bill Hollister and anti-hero Roscoe Bunyun, who are the sons of the men who set up the tontine. The last one to become married will receive one million dollars from the tontine. Keggs, the former butler to Bunyun\\'s father, informs Roscoe of the secret tontine. Keggs is now retired and wealthy. He supports his impoverished former employer, the genial and often confused Lord Uffenham, and Uffenham\\'s daughter Jane. A chance meeting between Bill and Jane turns to romance, Keggs\\' plan is undone by Roscoe, and Lord Uffenham and Keggs plot to save the day for Bill and Jane.\\nSomething Fishy also features Percy Pilbeam, the unscrupulous head of the Argus Detective Agency, who first appeared in Bill the Conqueror (1924) and was in several other Wodehouse books, including a visit to Blandings Castle in Summer Lightning (1929).\\n\\nReferences[edit]\\n\\n\\n^ McIlvaine, E., Sherby, L.S. and Heineman, J.H. (1990) P.G. Wodehouse: A comprehensive bibliography and checklist. New York: James H. Heineman, pp. 92-93. .mw-parser-output cite.citation{font-style:inherit}.mw-parser-output .citation q{quotes:\"\\\\\"\"\"\\\\\"\"\"\\'\"\"\\'\"}.mw-parser-output .citation .cs1-lock-free a{background:url(\"//upload.wikimedia.org/wikipedia/commons/thumb/6/65/Lock-green.svg/9px-Lock-green.svg.png\")no-repeat;background-position:right .1em center}.mw-parser-output .citation .cs1-lock-limited a,.mw-parser-output .citation .cs1-lock-registration a{background:url(\"//upload.wikimedia.org/wikipedia/commons/thumb/d/d6/Lock-gray-alt-2.svg/9px-Lock-gray-alt-2.svg.png\")no-repeat;background-position:right .1em center}.mw-parser-output .citation .cs1-lock-subscription a{background:url(\"//upload.wikimedia.org/wikipedia/commons/thumb/a/aa/Lock-red-alt-2.svg/9px-Lock-red-alt-2.svg.png\")no-repeat;background-position:right .1em center}.mw-parser-output .cs1-subscription,.mw-parser-output .cs1-registration{color:#555}.mw-parser-output .cs1-subscription span,.mw-parser-output .cs1-registration span{border-bottom:1px dotted;cursor:help}.mw-parser-output .cs1-ws-icon a{background:url(\"//upload.wikimedia.org/wikipedia/commons/thumb/4/4c/Wikisource-logo.svg/12px-Wikisource-logo.svg.png\")no-repeat;background-position:right .1em center}.mw-parser-output code.cs1-code{color:inherit;background:inherit;border:inherit;padding:inherit}.mw-parser-output .cs1-hidden-error{display:none;font-size:100%}.mw-parser-output .cs1-visible-error{font-size:100%}.mw-parser-output .cs1-maint{display:none;color:#33aa33;margin-left:0.3em}.mw-parser-output .cs1-subscription,.mw-parser-output .cs1-registration,.mw-parser-output .cs1-format{font-size:95%}.mw-parser-output .cs1-kern-left,.mw-parser-output .cs1-kern-wl-left{padding-left:0.2em}.mw-parser-output .cs1-kern-right,.mw-parser-output .cs1-kern-wl-right{padding-right:0.2em}ISBN\\xa0087008125X\\n\\n\\nExternal links[edit]\\nThe Russian Wodehouse Society\\'s page, with a list of characters\\nvteP. G. Wodehouse\\nBibliography\\nShort stories\\nCharacters\\nLocations\\nSongs\\nJeeves and Wooster\\n\"Extricating Young Gussie\"\\nMy Man Jeeves\\nThe Inimitable Jeeves\\nCarry On, Jeeves\\nVery Good, Jeeves\\nThank You, Jeeves\\nRight Ho, Jeeves\\nThe Code of the Woosters\\nJoy in the Morning\\nThe Mating Season\\nRing for Jeeves\\nJeeves and the Feudal Spirit\\n\"Jeeves Makes an Omelette\"\\nJeeves in the Offing\\nStiff Upper Lip, Jeeves\\n\"Jeeves and the Greasy Bird\"\\nMuch Obliged, Jeeves\\nAunts Aren\\'t Gentlemen\\nBlandings Castle\\nSomething Fresh\\nLeave It to Psmith\\nBlandings Castle and Elsewhere\\nSummer Lightning\\nHeavy Weather\\n\"The Crime Wave at Blandings\"\\nUncle Fred in the Springtime\\nFull Moon\\n\"Birth of a Salesman\"\\nPigs Have Wings\\nService with a Smile\\nGalahad at Blandings\\n\"Sticky Wicket at Blandings\"\\nA Pelican at Blandings\\nSunset at Blandings\\nSchool stories\\nThe Pothunters\\nA Prefect\\'s Uncle\\nTales of St. Austin\\'s\\nThe Gold Bat\\nThe Head of Kay\\'s\\nThe White Feather\\nMike\\nTales of Wrykyn and Elsewhere\\nOther novels\\nWilliam Tell Told Again\\nNot George Washington\\nThe Luck Stone\\nLove Among the Chickens\\nThe Swoop!\\nA Gentleman of Leisure\\nPsmith in the City\\nPsmith, Journalist\\nThe Prince and Betty\\nThe Little Nugget\\nPiccadilly Jim\\nUneasy Money\\nThe Coming of Bill\\nA Damsel in Distress\\nJill the Reckless\\nIndiscretions of Archie\\nThe Girl on the Boat\\nThe Adventures of Sally\\nBill the Conqueror\\nSam the Sudden\\nThe Small Bachelor\\nMoney for Nothing\\nBig Money\\nDoctor Sally\\nIf I Were You\\nHot Water\\nThe Luck of the Bodkins\\nLaughing Gas\\nSummer Moonshine\\nQuick Service\\nMoney in the Bank\\nSpring Fever\\nUncle Dynamite\\nThe Old Reliable\\nBarmy in Wonderland\\nFrench Leave\\nSomething Fishy\\nCocktail Time\\nIce in the Bedroom\\nFrozen Assets\\nCompany for Henry\\nDo Butlers Burgle Banks?\\nThe Girl in Blue\\nPearls, Girls and Monty Bodkin\\nBachelors Anonymous\\nOther short storycollections\\nThe Man Upstairs\\nA Man of Means\\nThe Man with Two Left Feet\\nThe Clicking of Cuthbert\\nUkridge\\nThe Heart of a Goof\\nMeet Mr Mulliner\\nMr Mulliner Speaking\\nMulliner Nights\\nYoung Men in Spats\\nLord Emsworth and Others\\nEggs, Beans and Crumpets\\nNothing Serious\\nA Few Quick Ones\\nPlum Pie\\nAutobiographies\\nBring On the Girls!\\nPerforming Flea\\nOver Seventy\\nStage\\nThe Beauty of Bath (1906)\\nNuts and Wine (1914)\\nOh, Boy! (1917)\\nLeave It to Jane (1917)\\nThe Riviera Girl (1917)\\nMiss 1917 (1917)\\nOh, Lady! Lady!! (1918)\\nThe Girl Behind the Gun (1918)\\nKissing Time (1919)\\nSally (1920)\\nThe Cabaret Girl (1922)\\nThe Beauty Prize (1923)\\nOh, Kay! (1926)\\nShow Boat (1927)\\nRosalie (1928)\\nThe Three Musketeers (1928)\\nAnything Goes (1934)\\nCome On, Jeeves (1954)\\nJeeves (later By Jeeves) (1975/1996)\\nJeeves and Wooster in Perfect Nonsense (2013)\\nA Damsel in Distress (2015)\\nFilms\\nA Gentleman of Leisure (1915)\\nA Damsel in Distress (1919)\\nPiccadilly Jim (1919)\\nThe Prince and Betty (1919)\\nOh, Lady, Lady (1920)\\nA Gentleman of Leisure (1923)\\nThe Golden Butterfly (1926)\\nOh, Kay! (1928)\\nBrother Alfred (1932)\\nLeave It to Me (1933)\\nSummer Lightning (1933)\\nAnything Goes (1936)\\nPiccadilly Jim (1936)\\nThank You, Jeeves! (1936)\\nStep Lively, Jeeves (1937)\\nA Damsel in Distress (1937)\\nThunder and Lightning (1938)\\nAnything Goes (1956)\\nThe Girl on the Boat (1961)\\nBy Jeeves (2001)\\nPiccadilly Jim (2004)\\nTelevision\\nThe World of Wooster (1965–67)\\nThe World of Wodehouse (1967–68)\\nWodehouse Playhouse (1975–78)\\nJeeves and Wooster (1990–93)\\nHeavy Weather (1995)\\nBlandings (2013–14)\\nRadio\\nWhat Ho! Jeeves (1973–81)\\nBlandings (1985–92)\\nComics\\nPlease, Jeeves (2008–14)\\n\\nThis article about a 1950s novel is a stub. You can help Wikipedia by expanding it.vteSee guidelines for writing about novels. Further suggestions might be found on the article\\'s talk page.\\n\\n\\n\\n\\nRetrieved from \"https://en.wikipedia.org/w/index.php?title=Something_Fishy&oldid=901304222\"\\nCategories: Novels by P. G. WodehouseEnglish novels1957 British novelsHerbert Jenkins booksFiction set in 1929Fiction set in 19551950s novel stubsHidden categories: Articles with short descriptionAll stub articles\\n\\n\\n\\n\\nNavigation menu\\n\\n\\nPersonal tools\\n\\nNot logged inTalkContributionsCreate accountLog in \\n\\n\\n\\nNamespaces\\n\\nArticleTalk \\n\\n\\n\\n\\nVariants\\n\\n\\n\\n\\n\\n\\n\\nViews\\n\\nReadEditView history \\n\\n\\n\\nMore\\n\\n\\n\\n\\n\\nSearch\\n\\n\\n\\n \\n\\n\\n\\n\\n\\n\\n\\nNavigation\\n\\n\\nMain pageContentsFeatured contentCurrent eventsRandom articleDonate to WikipediaWikipedia store \\n\\n\\n\\nInteraction\\n\\n\\nHelpAbout WikipediaCommunity portalRecent changesContact page \\n\\n\\n\\nTools\\n\\n\\nWhat links hereRelated changesUpload fileSpecial pagesPermanent linkPage informationWikidata itemCite this page \\n\\n\\n\\nPrint/export\\n\\n\\nCreate a bookDownload as PDFPrintable version \\n\\n\\n\\nLanguages\\n\\n\\nSvenska \\nEdit links \\n\\n\\n\\n\\n\\n This page was last edited on 11 June 2019, at 00:49\\xa0(UTC).\\nText is available under the Creative Commons Attribution-ShareAlike License;\\nadditional terms may apply.  By using this site, you agree to the Terms of Use and Privacy Policy. Wikipedia® is a registered trademark of the Wikimedia Foundation, Inc., a non-profit organization.\\n\\n\\nPrivacy policy\\nAbout Wikipedia\\nDisclaimers\\nContact Wikipedia\\nDevelopers\\nCookie statement\\nMobile view\\n\\n\\n\\n \\n\\n \\n\\n\\n\\n(RLQ=window.RLQ||[]).push(function(){mw.config.set({\"wgPageParseReport\":{\"limitreport\":{\"cputime\":\"0.168\",\"walltime\":\"0.239\",\"ppvisitednodes\":{\"value\":450,\"limit\":1000000},\"ppgeneratednodes\":{\"value\":0,\"limit\":1500000},\"postexpandincludesize\":{\"value\":36385,\"limit\":2097152},\"templateargumentsize\":{\"value\":586,\"limit\":2097152},\"expansiondepth\":{\"value\":13,\"limit\":40},\"expensivefunctioncount\":{\"value\":0,\"limit\":500},\"unstrip-depth\":{\"value\":1,\"limit\":20},\"unstrip-size\":{\"value\":2509,\"limit\":5000000},\"entityaccesscount\":{\"value\":0,\"limit\":400},\"timingprofile\":[\"100.00%  185.804      1 -total\",\" 48.81%   90.696      1 Template:Reflist\",\" 43.30%   80.448      1 Template:ISBN\",\" 28.50%   52.960      1 Template:Catalog_lookup_link\",\" 20.31%   37.737      1 Template:Short_description\",\" 18.82%   34.977      1 Template:Pagetype\",\"  8.40%   15.609      1 Template:P._G._Wodehouse\",\"  7.77%   14.429      1 Template:1950s-novel-stub\",\"  7.51%   13.945      1 Template:About\",\"  6.83%   12.686      1 Template:Navbox\"]},\"scribunto\":{\"limitreport-timeusage\":{\"value\":\"0.035\",\"limit\":\"10.000\"},\"limitreport-memusage\":{\"value\":1652128,\"limit\":52428800}},\"cachereport\":{\"origin\":\"mw1263\",\"timestamp\":\"20190611004949\",\"ttl\":2592000,\"transientcontent\":false}}});});\\n{\"@context\":\"https:\\\\/\\\\/schema.org\",\"@type\":\"Article\",\"name\":\"Something Fishy\",\"url\":\"https:\\\\/\\\\/en.wikipedia.org\\\\/wiki\\\\/Something_Fishy\",\"sameAs\":\"http:\\\\/\\\\/www.wikidata.org\\\\/entity\\\\/Q7560098\",\"mainEntity\":\"http:\\\\/\\\\/www.wikidata.org\\\\/entity\\\\/Q7560098\",\"author\":{\"@type\":\"Organization\",\"name\":\"Contributors to Wikimedia projects\"},\"publisher\":{\"@type\":\"Organization\",\"name\":\"Wikimedia Foundation, Inc.\",\"logo\":{\"@type\":\"ImageObject\",\"url\":\"https:\\\\/\\\\/www.wikimedia.org\\\\/static\\\\/images\\\\/wmf-hor-googpub.png\"}},\"datePublished\":\"2006-02-16T10:27:18Z\",\"dateModified\":\"2019-06-11T00:49:48Z\",\"image\":\"https:\\\\/\\\\/upload.wikimedia.org\\\\/wikipedia\\\\/en\\\\/1\\\\/14\\\\/SomethingFishy.jpg\",\"headline\":\"book by P.G. Wodehouse\"}\\n(RLQ=window.RLQ||[]).push(function(){mw.config.set({\"wgBackendResponseTime\":105,\"wgHostname\":\"mw1320\"});});\\n\\n\\n'"
            ]
          },
          "metadata": {
            "tags": []
          },
          "execution_count": 31
        }
      ]
    },
    {
      "cell_type": "code",
      "metadata": {
        "id": "-9QBithiTM8T",
        "colab_type": "code",
        "colab": {
          "base_uri": "https://localhost:8080/",
          "height": 1000
        },
        "outputId": "fa0bba16-546b-462a-c412-11ef782454f7"
      },
      "source": [
        "for Alink in soup.find_all('a'):#alink is any variable like i which is used to parse <a>tag in soup text using find_all function\n",
        "  #print(Alink) #this will print <a link from soup data\n",
        "  print(Alink.get('href'))#to get href from alink "
      ],
      "execution_count": 32,
      "outputs": [
        {
          "output_type": "stream",
          "text": [
            "None\n",
            "#mw-head\n",
            "#p-search\n",
            "/wiki/Something_Fishy_(film)\n",
            "/wiki/File:SomethingFishy.jpg\n",
            "/wiki/File:SomethingFishy.jpg\n",
            "/wiki/P._G._Wodehouse\n",
            "/wiki/Herbert_Jenkins_Ltd\n",
            "/wiki/Simon_%26_Schuster,_Inc.\n",
            "#cite_note-McIl-1\n",
            "/wiki/Tontine\n",
            "/wiki/Percy_Pilbeam\n",
            "/wiki/Bill_the_Conqueror\n",
            "/wiki/Blandings_Castle\n",
            "/wiki/Summer_Lightning\n",
            "/w/index.php?title=Something_Fishy&action=edit&section=1\n",
            "#cite_ref-McIl_1-0\n",
            "/wiki/International_Standard_Book_Number\n",
            "/wiki/Special:BookSources/087008125X\n",
            "/w/index.php?title=Something_Fishy&action=edit&section=2\n",
            "http://wodehouse.ru/79.htm\n",
            "/wiki/Template:P._G._Wodehouse\n",
            "/wiki/Template_talk:P._G._Wodehouse\n",
            "//en.wikipedia.org/w/index.php?title=Template:P._G._Wodehouse&action=edit\n",
            "/wiki/P._G._Wodehouse\n",
            "/wiki/P._G._Wodehouse_bibliography\n",
            "/wiki/P._G._Wodehouse_short_stories_bibliography\n",
            "/wiki/List_of_P._G._Wodehouse_characters\n",
            "/wiki/P._G._Wodehouse_locations\n",
            "/wiki/List_of_songs_with_lyrics_by_P._G._Wodehouse\n",
            "/wiki/Jeeves\n",
            "/wiki/Bertie_Wooster\n",
            "/wiki/Extricating_Young_Gussie\n",
            "/wiki/My_Man_Jeeves\n",
            "/wiki/The_Inimitable_Jeeves\n",
            "/wiki/Carry_On,_Jeeves\n",
            "/wiki/Very_Good,_Jeeves\n",
            "/wiki/Thank_You,_Jeeves\n",
            "/wiki/Right_Ho,_Jeeves\n",
            "/wiki/The_Code_of_the_Woosters\n",
            "/wiki/Joy_in_the_Morning_(Wodehouse_novel)\n",
            "/wiki/The_Mating_Season_(novel)\n",
            "/wiki/Ring_for_Jeeves\n",
            "/wiki/Jeeves_and_the_Feudal_Spirit\n",
            "/wiki/Jeeves_Makes_an_Omelette\n",
            "/wiki/Jeeves_in_the_Offing\n",
            "/wiki/Stiff_Upper_Lip,_Jeeves\n",
            "/wiki/Jeeves_and_the_Greasy_Bird\n",
            "/wiki/Much_Obliged,_Jeeves\n",
            "/wiki/Aunts_Aren%27t_Gentlemen\n",
            "/wiki/Blandings_Castle\n",
            "/wiki/Something_Fresh\n",
            "/wiki/Leave_It_to_Psmith\n",
            "/wiki/Blandings_Castle_and_Elsewhere\n",
            "/wiki/Summer_Lightning\n",
            "/wiki/Heavy_Weather_(Wodehouse_novel)\n",
            "/wiki/The_Crime_Wave_at_Blandings\n",
            "/wiki/Uncle_Fred_in_the_Springtime\n",
            "/wiki/Full_Moon_(novel)\n",
            "/wiki/Birth_of_a_Salesman\n",
            "/wiki/Pigs_Have_Wings\n",
            "/wiki/Service_with_a_Smile\n",
            "/wiki/Galahad_at_Blandings\n",
            "/wiki/Sticky_Wicket_at_Blandings\n",
            "/wiki/A_Pelican_at_Blandings\n",
            "/wiki/Sunset_at_Blandings\n",
            "/wiki/The_Pothunters\n",
            "/wiki/A_Prefect%27s_Uncle\n",
            "/wiki/Tales_of_St._Austin%27s\n",
            "/wiki/The_Gold_Bat\n",
            "/wiki/The_Head_of_Kay%27s\n",
            "/wiki/The_White_Feather\n",
            "/wiki/Mike_(novel)\n",
            "/wiki/Tales_of_Wrykyn_and_Elsewhere\n",
            "/wiki/William_Tell_Told_Again\n",
            "/wiki/Not_George_Washington\n",
            "/wiki/The_Luck_Stone\n",
            "/wiki/Love_Among_the_Chickens\n",
            "/wiki/The_Swoop!\n",
            "/wiki/A_Gentleman_of_Leisure\n",
            "/wiki/Psmith_in_the_City\n",
            "/wiki/Psmith,_Journalist\n",
            "/wiki/The_Prince_and_Betty\n",
            "/wiki/The_Little_Nugget\n",
            "/wiki/Piccadilly_Jim\n",
            "/wiki/Uneasy_Money\n",
            "/wiki/The_Coming_of_Bill\n",
            "/wiki/A_Damsel_in_Distress_(novel)\n",
            "/wiki/Jill_the_Reckless\n",
            "/wiki/Indiscretions_of_Archie\n",
            "/wiki/The_Girl_on_the_Boat\n",
            "/wiki/The_Adventures_of_Sally\n",
            "/wiki/Bill_the_Conqueror\n",
            "/wiki/Sam_the_Sudden\n",
            "/wiki/The_Small_Bachelor\n",
            "/wiki/Money_for_Nothing_(novel)\n",
            "/wiki/Big_Money_(novel)\n",
            "/wiki/Doctor_Sally\n",
            "/wiki/If_I_Were_You_(Wodehouse_novel)\n",
            "/wiki/Hot_Water_(novel)\n",
            "/wiki/The_Luck_of_the_Bodkins\n",
            "/wiki/Laughing_Gas_(novel)\n",
            "/wiki/Summer_Moonshine\n",
            "/wiki/Quick_Service\n",
            "/wiki/Money_in_the_Bank_(novel)\n",
            "/wiki/Spring_Fever_(novel)\n",
            "/wiki/Uncle_Dynamite\n",
            "/wiki/The_Old_Reliable\n",
            "/wiki/Barmy_in_Wonderland\n",
            "/wiki/French_Leave_(novel)\n",
            "None\n",
            "/wiki/Cocktail_Time\n",
            "/wiki/Ice_in_the_Bedroom\n",
            "/wiki/Frozen_Assets_(novel)\n",
            "/wiki/Company_for_Henry\n",
            "/wiki/Do_Butlers_Burgle_Banks%3F\n",
            "/wiki/The_Girl_in_Blue\n",
            "/wiki/Pearls,_Girls_and_Monty_Bodkin\n",
            "/wiki/Bachelors_Anonymous\n",
            "/wiki/The_Man_Upstairs_(short_story_collection)\n",
            "/wiki/A_Man_of_Means\n",
            "/wiki/The_Man_with_Two_Left_Feet\n",
            "/wiki/The_Clicking_of_Cuthbert\n",
            "/wiki/Ukridge_(short_story_collection)\n",
            "/wiki/The_Heart_of_a_Goof\n",
            "/wiki/Meet_Mr_Mulliner\n",
            "/wiki/Mr_Mulliner_Speaking\n",
            "/wiki/Mulliner_Nights\n",
            "/wiki/Young_Men_in_Spats\n",
            "/wiki/Lord_Emsworth_and_Others\n",
            "/wiki/Eggs,_Beans_and_Crumpets\n",
            "/wiki/Nothing_Serious_(short_story_collection)\n",
            "/wiki/A_Few_Quick_Ones\n",
            "/wiki/Plum_Pie\n",
            "/wiki/Bring_On_the_Girls!\n",
            "/wiki/Performing_Flea\n",
            "/wiki/Over_Seventy\n",
            "/wiki/The_Beauty_of_Bath\n",
            "/wiki/Nuts_and_Wine\n",
            "/wiki/Oh,_Boy!_(musical)\n",
            "/wiki/Leave_It_to_Jane\n",
            "/wiki/The_Riviera_Girl\n",
            "/wiki/Miss_1917\n",
            "/wiki/Oh,_Lady!_Lady!!\n",
            "/wiki/The_Girl_Behind_the_Gun\n",
            "/wiki/Kissing_Time\n",
            "/wiki/Sally_(musical)\n",
            "/wiki/The_Cabaret_Girl\n",
            "/wiki/The_Beauty_Prize\n",
            "/wiki/Oh,_Kay!\n",
            "/wiki/Show_Boat\n",
            "/wiki/Rosalie_(musical)\n",
            "/wiki/The_Three_Musketeers_(musical)\n",
            "/wiki/Anything_Goes\n",
            "/wiki/Come_On,_Jeeves\n",
            "/wiki/By_Jeeves\n",
            "/wiki/Jeeves_and_Wooster_in_Perfect_Nonsense\n",
            "/wiki/A_Damsel_in_Distress_(musical)\n",
            "/wiki/A_Gentleman_of_Leisure_(1915_film)\n",
            "/wiki/A_Damsel_in_Distress_(1919_film)\n",
            "/wiki/Piccadilly_Jim_(1919_film)\n",
            "/wiki/The_Prince_and_Betty_(film)\n",
            "/wiki/Oh,_Lady,_Lady\n",
            "/wiki/A_Gentleman_of_Leisure_(1923_film)\n",
            "/wiki/The_Golden_Butterfly\n",
            "/wiki/Oh,_Kay!_(film)\n",
            "/wiki/Brother_Alfred\n",
            "/wiki/Leave_It_to_Me_(1933_film)\n",
            "/wiki/Summer_Lightning_(film)\n",
            "/wiki/Anything_Goes_(1936_film)\n",
            "/wiki/Piccadilly_Jim_(1936_film)\n",
            "/wiki/Thank_You,_Jeeves!\n",
            "/wiki/Step_Lively,_Jeeves!\n",
            "/wiki/A_Damsel_in_Distress_(1937_film)\n",
            "/wiki/Thunder_and_Lightning_(1938_film)\n",
            "/wiki/Anything_Goes_(1956_film)\n",
            "/wiki/The_Girl_on_the_Boat_(film)\n",
            "/wiki/By_Jeeves_(film)\n",
            "/wiki/Piccadilly_Jim_(2004_film)\n",
            "/wiki/The_World_of_Wooster\n",
            "/wiki/The_World_of_Wodehouse\n",
            "/wiki/Wodehouse_Playhouse\n",
            "/wiki/Jeeves_and_Wooster\n",
            "/wiki/Heavy_Weather_(film)\n",
            "/wiki/Blandings_(TV_series)\n",
            "/wiki/What_Ho!_Jeeves\n",
            "/wiki/Blandings_(radio_series)\n",
            "/wiki/Please,_Jeeves\n",
            "/wiki/File:Books-aj.svg_aj_ashton_01b.svg\n",
            "/wiki/Wikipedia:Stub\n",
            "//en.wikipedia.org/w/index.php?title=Something_Fishy&action=edit\n",
            "/wiki/Template:1950s-novel-stub\n",
            "/wiki/Template_talk:1950s-novel-stub\n",
            "//en.wikipedia.org/w/index.php?title=Template:1950s-novel-stub&action=edit\n",
            "/wiki/Wikipedia:Manual_of_Style/Novels\n",
            "/wiki/Talk:Something_Fishy\n",
            "https://en.wikipedia.org/w/index.php?title=Something_Fishy&oldid=901304222\n",
            "/wiki/Help:Category\n",
            "/wiki/Category:Novels_by_P._G._Wodehouse\n",
            "/wiki/Category:English_novels\n",
            "/wiki/Category:1957_British_novels\n",
            "/wiki/Category:Herbert_Jenkins_books\n",
            "/wiki/Category:Fiction_set_in_1929\n",
            "/wiki/Category:Fiction_set_in_1955\n",
            "/wiki/Category:1950s_novel_stubs\n",
            "/wiki/Category:Articles_with_short_description\n",
            "/wiki/Category:All_stub_articles\n",
            "/wiki/Special:MyTalk\n",
            "/wiki/Special:MyContributions\n",
            "/w/index.php?title=Special:CreateAccount&returnto=Something+Fishy\n",
            "/w/index.php?title=Special:UserLogin&returnto=Something+Fishy\n",
            "/wiki/Something_Fishy\n",
            "/wiki/Talk:Something_Fishy\n",
            "/wiki/Something_Fishy\n",
            "/w/index.php?title=Something_Fishy&action=edit\n",
            "/w/index.php?title=Something_Fishy&action=history\n",
            "/wiki/Main_Page\n",
            "/wiki/Main_Page\n",
            "/wiki/Portal:Contents\n",
            "/wiki/Portal:Featured_content\n",
            "/wiki/Portal:Current_events\n",
            "/wiki/Special:Random\n",
            "https://donate.wikimedia.org/wiki/Special:FundraiserRedirector?utm_source=donate&utm_medium=sidebar&utm_campaign=C13_en.wikipedia.org&uselang=en\n",
            "//shop.wikimedia.org\n",
            "/wiki/Help:Contents\n",
            "/wiki/Wikipedia:About\n",
            "/wiki/Wikipedia:Community_portal\n",
            "/wiki/Special:RecentChanges\n",
            "//en.wikipedia.org/wiki/Wikipedia:Contact_us\n",
            "/wiki/Special:WhatLinksHere/Something_Fishy\n",
            "/wiki/Special:RecentChangesLinked/Something_Fishy\n",
            "/wiki/Wikipedia:File_Upload_Wizard\n",
            "/wiki/Special:SpecialPages\n",
            "/w/index.php?title=Something_Fishy&oldid=901304222\n",
            "/w/index.php?title=Something_Fishy&action=info\n",
            "https://www.wikidata.org/wiki/Special:EntityPage/Q7560098\n",
            "/w/index.php?title=Special:CiteThisPage&page=Something_Fishy&id=901304222\n",
            "/w/index.php?title=Special:Book&bookcmd=book_creator&referer=Something+Fishy\n",
            "/w/index.php?title=Special:ElectronPdf&page=Something+Fishy&action=show-download-screen\n",
            "/w/index.php?title=Something_Fishy&printable=yes\n",
            "https://sv.wikipedia.org/wiki/R%C3%A4vspel_(roman)\n",
            "https://www.wikidata.org/wiki/Special:EntityPage/Q7560098#sitelinks-wikipedia\n",
            "//en.wikipedia.org/wiki/Wikipedia:Text_of_Creative_Commons_Attribution-ShareAlike_3.0_Unported_License\n",
            "//creativecommons.org/licenses/by-sa/3.0/\n",
            "//foundation.wikimedia.org/wiki/Terms_of_Use\n",
            "//foundation.wikimedia.org/wiki/Privacy_policy\n",
            "//www.wikimediafoundation.org/\n",
            "https://foundation.wikimedia.org/wiki/Privacy_policy\n",
            "/wiki/Wikipedia:About\n",
            "/wiki/Wikipedia:General_disclaimer\n",
            "//en.wikipedia.org/wiki/Wikipedia:Contact_us\n",
            "https://www.mediawiki.org/wiki/Special:MyLanguage/How_to_contribute\n",
            "https://foundation.wikimedia.org/wiki/Cookie_statement\n",
            "//en.m.wikipedia.org/w/index.php?title=Something_Fishy&mobileaction=toggle_view_mobile\n",
            "https://wikimediafoundation.org/\n",
            "https://www.mediawiki.org/\n"
          ],
          "name": "stdout"
        }
      ]
    },
    {
      "cell_type": "code",
      "metadata": {
        "id": "PrhC2ohxUsjl",
        "colab_type": "code",
        "colab": {
          "base_uri": "https://localhost:8080/",
          "height": 193
        },
        "outputId": "8c201be6-f19a-4deb-e475-06c87fdd8bb0"
      },
      "source": [
        "for ptag in soup.find_all('p'):#this is use to get the content of p tag which holds the main inforamtion or data\n",
        "  print(ptag)\n",
        "  #now second loop for b tag that have info \n",
        "  for btag in ptag.find_all('b'):\n",
        "    print(btag.text)"
      ],
      "execution_count": 42,
      "outputs": [
        {
          "output_type": "stream",
          "text": [
            "<p><i><b>Something Fishy</b></i> is a novel by <a href=\"/wiki/P._G._Wodehouse\" title=\"P. G. Wodehouse\">P. G. Wodehouse</a>, first published in the United Kingdom on 18 January 1957 by <a class=\"mw-redirect\" href=\"/wiki/Herbert_Jenkins_Ltd\" title=\"Herbert Jenkins Ltd\">Herbert Jenkins</a>, London and in the United States on January 28, 1957 by <a class=\"mw-redirect\" href=\"/wiki/Simon_%26_Schuster,_Inc.\" title=\"Simon &amp; Schuster, Inc.\">Simon &amp; Schuster, Inc.</a>, New York, under the title <i>The Butler Did It</i>.<sup class=\"reference\" id=\"cite_ref-McIl_1-0\"><a href=\"#cite_note-McIl-1\">[1]</a></sup>\n",
            "</p>\n",
            "Something Fishy\n",
            "<p>The plot concerns a <a href=\"/wiki/Tontine\" title=\"Tontine\">tontine</a> formed by a group of wealthy men weeks before the 1929 stock market crash, and a butler named Keggs who, having overheard the planning of the scheme, years later decides to try to make money out of his knowledge.\n",
            "</p>\n",
            "<p>The novel features hero Bill Hollister and anti-hero Roscoe Bunyun, who are the sons of the men who set up the tontine. The last one to become married will receive one million dollars from the tontine. Keggs, the former butler to Bunyun's father, informs Roscoe of the secret tontine. Keggs is now retired and wealthy. He supports his impoverished former employer, the genial and often confused Lord Uffenham, and Uffenham's daughter Jane. A chance meeting between Bill and Jane turns to romance, Keggs' plan is undone by Roscoe, and Lord Uffenham and Keggs plot to save the day for Bill and Jane.\n",
            "</p>\n",
            "<p><i>Something Fishy</i> also features <a class=\"mw-redirect\" href=\"/wiki/Percy_Pilbeam\" title=\"Percy Pilbeam\">Percy Pilbeam</a>, the unscrupulous head of the Argus Detective Agency, who first appeared in <i><a href=\"/wiki/Bill_the_Conqueror\" title=\"Bill the Conqueror\">Bill the Conqueror</a></i> (1924) and was in several other Wodehouse books, including a visit to <a href=\"/wiki/Blandings_Castle\" title=\"Blandings Castle\">Blandings Castle</a> in <i><a href=\"/wiki/Summer_Lightning\" title=\"Summer Lightning\">Summer Lightning</a></i> (1929).\n",
            "</p>\n"
          ],
          "name": "stdout"
        }
      ]
    },
    {
      "cell_type": "code",
      "metadata": {
        "id": "S1AfG8UXY7ZT",
        "colab_type": "code",
        "colab": {
          "base_uri": "https://localhost:8080/",
          "height": 143
        },
        "outputId": "b260d132-7ea9-4ceb-99f8-eefea0db5b99"
      },
      "source": [
        "#making dataframes\n",
        "import pandas as pd\n",
        "list=[['Lucky',18,30],['Gopal',17,60],['Madhav',16,60]]\n",
        "df=pd.DataFrame(list,columns=['name','age','marks'])#pd.dataframe is used to create a dataframe using list, dictionary, file,datafrme itself\n",
        "df"
      ],
      "execution_count": 55,
      "outputs": [
        {
          "output_type": "execute_result",
          "data": {
            "text/html": [
              "<div>\n",
              "<style scoped>\n",
              "    .dataframe tbody tr th:only-of-type {\n",
              "        vertical-align: middle;\n",
              "    }\n",
              "\n",
              "    .dataframe tbody tr th {\n",
              "        vertical-align: top;\n",
              "    }\n",
              "\n",
              "    .dataframe thead th {\n",
              "        text-align: right;\n",
              "    }\n",
              "</style>\n",
              "<table border=\"1\" class=\"dataframe\">\n",
              "  <thead>\n",
              "    <tr style=\"text-align: right;\">\n",
              "      <th></th>\n",
              "      <th>name</th>\n",
              "      <th>age</th>\n",
              "      <th>marks</th>\n",
              "    </tr>\n",
              "  </thead>\n",
              "  <tbody>\n",
              "    <tr>\n",
              "      <th>0</th>\n",
              "      <td>Lucky</td>\n",
              "      <td>18</td>\n",
              "      <td>30</td>\n",
              "    </tr>\n",
              "    <tr>\n",
              "      <th>1</th>\n",
              "      <td>Gopal</td>\n",
              "      <td>17</td>\n",
              "      <td>60</td>\n",
              "    </tr>\n",
              "    <tr>\n",
              "      <th>2</th>\n",
              "      <td>Madhav</td>\n",
              "      <td>16</td>\n",
              "      <td>60</td>\n",
              "    </tr>\n",
              "  </tbody>\n",
              "</table>\n",
              "</div>"
            ],
            "text/plain": [
              "     name  age  marks\n",
              "0   Lucky   18     30\n",
              "1   Gopal   17     60\n",
              "2  Madhav   16     60"
            ]
          },
          "metadata": {
            "tags": []
          },
          "execution_count": 55
        }
      ]
    }
  ]
}